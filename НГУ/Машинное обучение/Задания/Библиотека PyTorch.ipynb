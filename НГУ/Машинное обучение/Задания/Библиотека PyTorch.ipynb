{
  "nbformat": 4,
  "nbformat_minor": 0,
  "metadata": {
    "colab": {
      "provenance": []
    },
    "kernelspec": {
      "name": "python3",
      "display_name": "Python 3"
    },
    "language_info": {
      "name": "python"
    }
  },
  "cells": [
    {
      "cell_type": "markdown",
      "metadata": {
        "id": "KBeojQNTzwY-"
      },
      "source": [
        "# Домашнее задание. Библиотека Pytorch\n",
        "\n",
        "В этом занятии вам предстоит потренироваться в обучении моделей с помощью библиотеки Pytorch. Мы будем работать с игрушечным датасетом moons. Вам предстоит самостоятельно реализовать в Pytorch логистическую регрессию и обучить ее.\n",
        "\n",
        "## Оценивание задания\n",
        "Это задание будет проверяться в формате peer-review. Это означает, что вашу посылку на Stepik будут проверять 3 других учащихся, и медианное значение их оценок будет выставлено в качестве окончательного балла. Чтобы получить баллы, вам также нужно будет проверить трех других учеников. Это станет доступно после того, как вы сдадите задание сами.\n",
        "\n",
        "## Оформление посылки\n",
        "В качестве решения необходимо послать ноутбук в формате .ipynb. Пожалуйста, сделайте файл максимально читаемым. Если размер вашего файла превышает 5 Мб, приложите текстовый документ со ссылкой на файл в Google Drive (не забудьте обеспечить доступ на чтение). Пожалуйста, проследите, чтобы у файла было верное расширение: иначе у других участников могут возникнуть проблемы с прочтением.\n",
        "\n",
        "## Рекомендации по решению\n",
        "Подробные критерии проверки станут доступными во время проверки на Stepik. Пока мы предлагаем несколько правил, которые помогут вам набрать максимальное количество баллов.\n",
        "* Сначала оформите ноутбук, а затем перезапустите среду выполнения и выполните ноутбук заново (Среда выполнения→перезапустить и выполнить всё). Так вы убедитесь, что итоговый код вашего ноутбука корректен.\n",
        "* В ноутбуке есть два типа проверки: `assert`'ы и 3 ключевых вопроса. Корректное решение должно проходить все `assert`-ы. Также необходимо дать ответы на все вопросы из ноутбука.\n",
        "* Чем более понятным и читаемым вы сделаете код, тем больше шансов, что проверяющий поставит вам за него высокий балл.\n",
        "\n",
        "Желаем удачи!\n",
        "\n",
        "\n",
        "\n",
        "\n",
        "\n"
      ]
    },
    {
      "cell_type": "code",
      "metadata": {
        "id": "Kd-KUTc1CBXm"
      },
      "source": [
        "import numpy as np\n",
        "\n",
        "import seaborn as sns\n",
        "from matplotlib import pyplot as plt\n",
        "\n",
        "from sklearn.datasets import make_moons\n",
        "from sklearn.model_selection import train_test_split\n",
        "\n",
        "import torch\n",
        "from torch import nn\n",
        "from torch.nn import functional as F\n",
        "\n",
        "from torch.utils.data import TensorDataset, DataLoader\n",
        "\n",
        "sns.set(style=\"darkgrid\", font_scale=1.4)"
      ],
      "execution_count": null,
      "outputs": []
    },
    {
      "cell_type": "markdown",
      "metadata": {
        "id": "HvKrWYan4Rxr"
      },
      "source": [
        "## Датасет moons\n",
        "\n",
        "Давайте сгенерируем датасет и посмотрим на него!"
      ]
    },
    {
      "cell_type": "code",
      "metadata": {
        "id": "lo3nwjSJFUP7"
      },
      "source": [
        "X, y = make_moons(n_samples=10000, random_state=42, noise=0.1)\n",
        "\n",
        "y = 2 * y - 1 # Делаем из классов (0, 1) классы +- 1"
      ],
      "execution_count": null,
      "outputs": []
    },
    {
      "cell_type": "code",
      "metadata": {
        "id": "Xa9UCvRyJFqL"
      },
      "source": [
        "plt.figure(figsize=(16, 10))\n",
        "plt.title(\"Dataset\")\n",
        "plt.scatter(X[:, 0], X[:, 1], c=y, cmap=\"viridis\")\n",
        "plt.show()"
      ],
      "execution_count": null,
      "outputs": []
    },
    {
      "cell_type": "markdown",
      "metadata": {
        "id": "r6BcB14d4wGm"
      },
      "source": [
        "Сделаем train/test split"
      ]
    },
    {
      "cell_type": "code",
      "metadata": {
        "id": "fv5MyTiCHjRh"
      },
      "source": [
        "X_train, X_val, y_train, y_val = train_test_split(X, y, random_state=42)"
      ],
      "execution_count": null,
      "outputs": []
    },
    {
      "cell_type": "markdown",
      "metadata": {
        "id": "iTeLXQg240cQ"
      },
      "source": [
        "### Загрузка данных\n",
        "В PyTorch загрузка данных как правило происходит налету (иногда датасеты не помещаются в оперативную память). Для этого используются две сущности `Dataset` и `DataLoader`.\n",
        "\n",
        "1.   `Dataset` загружает каждый объект по отдельности.\n",
        "\n",
        "2.   `DataLoader` группирует объекты из `Dataset` в батчи.\n",
        "\n",
        "Так как наш датасет достаточно маленький мы будем использовать `TensorDataset`. Все, что нам нужно, это перевести из массива numpy в тензор с типом `torch.float32`.\n",
        "\n",
        "### Задание. Создайте тензоры с обучающими и тестовыми данными"
      ]
    },
    {
      "cell_type": "code",
      "metadata": {
        "id": "msj3bXOeIcN-"
      },
      "source": [
        "X_train_t =  # YOUR CODE GOES HERE\n",
        "y_train_t =  # YOUR CODE GOES HERE\n",
        "X_val_t =  # YOUR CODE GOES HERE\n",
        "y_val_t =  # YOUR CODE GOES HERE"
      ],
      "execution_count": null,
      "outputs": []
    },
    {
      "cell_type": "markdown",
      "metadata": {
        "id": "gqwGMsE_7WBy"
      },
      "source": [
        "Создаем `Dataset` и `DataLoader`."
      ]
    },
    {
      "cell_type": "code",
      "metadata": {
        "id": "ERvubjbMIu2J"
      },
      "source": [
        "train_dataset = TensorDataset(X_train_t, y_train_t)\n",
        "val_dataset = TensorDataset(X_val_t, y_val_t)\n",
        "train_dataloader = DataLoader(train_dataset, batch_size=128)\n",
        "val_dataloader = DataLoader(val_dataset, batch_size=128)"
      ],
      "execution_count": null,
      "outputs": []
    },
    {
      "cell_type": "markdown",
      "metadata": {
        "id": "BT6eRdVNCO42"
      },
      "source": [
        "## Logistic regression is my profession\n",
        "\n",
        "**Напоминание**\n",
        "Давайте вспоним, как устроена логистическая регрессия. На входе у нас есть матрица объекты-признаки $X$ размера $\\ell \\times n$ и вектор-столбец $y$ размера $\\ell$ --- метки классов из $\\{-1, +1\\}$ для каждого объекта.\n",
        "\n",
        "\n",
        "### Вычисление логитов\n",
        "Пусть $x$ --- одна строчка матрицы $X$ (вектор признаков одного объекта). Мы хотим найти такой вектор весов (weights) $w$ размера $n$, чтобы число $\\sigma(\\langle x, w \\rangle)$ интерпретировалось как вероятность того, что объект $x$ принадлежит классу $+1$ против класса $-1$. Тогда вероятность принадлежности классу $-1$ будет вычисляться как $1 - \\sigma(\\langle x, w \\rangle)$.\n",
        "\n",
        "Здесь $$\\sigma(z) = \\frac{1}{1+e^{-z}}.$$\n",
        "\n",
        "### Функция потерь и обучение\n",
        "Задача обучения модели логистической регрессии состоит в том, чтобы подобрать такую матрицу весов $w$, чтобы максимизировать логистическую функцию потерь, которую ещё называют logloss.\n",
        "\n",
        "Формула для вычисления логистической функции потерь представлена ниже:\n",
        "$$Logloss = \\frac{1}{\\ell}\\sum\\limits_{i=1}^{\\ell}\\ln(1 + e^{-y^i \\langle x^i, w\\rangle}) \\rightarrow \\min_{w}.$$\n",
        "\n",
        "Здесь $x^i$ --- это вектор признаков $i$-ого объекта, а $y^i$ --- класс $i$-ого объекта ($\\pm 1$). Эту формулу мы выводили на занятии по логистической регрессии.\n"
      ]
    },
    {
      "cell_type": "markdown",
      "metadata": {
        "id": "BKyYQcec7cu4"
      },
      "source": [
        "### Задание 1. Реализация логистической регрессии (2 балла)\n",
        "\n",
        "Вам необходимо написать модуль на PyTorch, реализующий функцию $f(X) = Xw$, где $w$ --- параметр (`nn.Parameter`) модели. Иначе говоря, здесь мы реализуем своими руками модуль `nn.Linear` (в этом пункте его использование запрещено) без свободного члена. Инициализируйте веса нормальным распределением (`torch.randn`).\n",
        "\n",
        "В самом модуле LogisticRegression мы не применяем к выходу сигмоиду, поскольку после этого неудобно будет вычислять функцию потерь. Сигмоиду нужно будет применять к выходу самостоятельно. Поэтому модуль LogisticRegression не будет отличаться от модуля LinearRegression, который мы реализовывали на семинаре [Введение в Pytorch](https://drive.google.com/file/d/1j16uJKDYulUOtRpGxGE4X5kvJIjUCppm/view?usp=sharing)."
      ]
    },
    {
      "cell_type": "code",
      "metadata": {
        "id": "5U1y-0KtCTne"
      },
      "source": [
        "class LogisticRegression(nn.Module):\n",
        "    def __init__(self, n: int):\n",
        "        super().__init__()\n",
        "        self.weights = nn.Parameter(torch.randn(n, 1).type(torch.float64), requires_grad=True)\n",
        "\n",
        "    def forward(self, x): #x has shape (l, n)\n",
        "        result =  # YOUR CODE. Вычислите значение Xw. Используйте @ для матричного произведения\n",
        "        return result"
      ],
      "execution_count": null,
      "outputs": []
    },
    {
      "cell_type": "code",
      "metadata": {
        "id": "jgIgTLHSM-10"
      },
      "source": [
        "test_model = LogisticRegression(n=2)"
      ],
      "execution_count": null,
      "outputs": []
    },
    {
      "cell_type": "markdown",
      "source": [
        "### Вычисление логистической функции потерь в Pytorch\n",
        "Как вычислить логистическую функцию потерь с помощью операций Pytorch? Пусть $X$ --- матрица объекты-признаки размерности $\\ell \\times n$, $y$ --- вектор размерности $\\ell$, $w$ --- вектор весов размерности $n$.\n",
        "\n",
        "* Если $X$ --- это матрица объекты-признаки, то вектор $Xw$ представляет из себя вектор из скалярных произведений\n",
        "$$(\\langle x^1, w\\rangle, \\ldots, \\langle x^{\\ell}, w\\rangle).$$\n",
        "Здесь $Xw$ --- это матричное произведение матрицы $X$ на вектор $w$. Обратите внимание, что в Pytorch матричное произведение матрицы `X` на вектор `w` можно вычислить как `X @ w`. Не забудьте, что для матричного произведения необходимо, чтобы форма тензора w была `(n, 1)`.\n",
        "\n",
        "Далее, $-(Xw) \\odot y$ --- это вектор поэлементных произведений\n",
        "$$(-y^1\\cdot \\langle x^1, w\\rangle, \\ldots, -y^{\\ell}\\cdot \\langle x^{\\ell}, w\\rangle).$$\n",
        "\n",
        "Здесь $\\odot$ --- это поэлементное произведение. В pytorch оно обозначается просто как умножение (*). Обратите внимание, что для корректного выполнения поэлементного произведения необходимо, чтобы форма вектора $Xw$ совпадала с формой вектора $y$, то есть форма вектора $y$ должна быть `(l, 1)`.\n",
        "\n",
        "Наконец, последняя цепочка операций --- это поэлементные\n",
        "* применение к получившемуся вектору функции экспоненты (`torch.exp`),\n",
        "* прибавление единицы,\n",
        "* логарифмирование (`torch.log`)."
      ],
      "metadata": {
        "id": "vcdeEwUIx8AD"
      }
    },
    {
      "cell_type": "markdown",
      "source": [
        "### Задание 2. Вычисление функции потерь (3 балла)\n",
        "Потренируемся в вычислении функции потерь, которая описана выше. Сейчас мы будем делать это на конкретных числах.\n",
        "\n",
        "Даны матрица объекты-признаки $X$, вектор весов $w$ и вектор правильных ответов $y$."
      ],
      "metadata": {
        "id": "boiqiXwJxwFf"
      }
    },
    {
      "cell_type": "code",
      "source": [
        "X_batch = torch.DoubleTensor([[2., 0.5], [0.3, -4.5], [8.2, 0.4]])\n",
        "w = torch.DoubleTensor([3.6, -2.2]).view(2, 1)\n",
        "y_batch = torch.tensor([1, -1, 1])\n",
        "X_batch, w, y_batch"
      ],
      "metadata": {
        "id": "eSHiMdCNyE1S"
      },
      "execution_count": null,
      "outputs": []
    },
    {
      "cell_type": "markdown",
      "source": [
        "Вычислите функцию потерь по алгоритму выше."
      ],
      "metadata": {
        "id": "j1PvFDdk6fK9"
      }
    },
    {
      "cell_type": "code",
      "source": [
        "test_model.weights = nn.Parameter(w, requires_grad=True)\n",
        "\n",
        "outp = #YOUR CODE. Вычислите матричное произведение X_batch и w. Используйте объект test_model\n",
        "\n",
        "outp = outp.flatten()\n",
        "\n",
        "outp1 = #YOUR CODE. Вычислите вектор размера 3 из компонент -y^i * <x^i, w>\n",
        "\n",
        "all_losses =  #YOUR CODE. Вычислите вектор размера 3 из компонент ln(1 + e^(-y^i * <x^i, w>))\n",
        "\n",
        "loss = torch.mean(all_losses)"
      ],
      "metadata": {
        "id": "ZPsyq7nQyx07"
      },
      "execution_count": null,
      "outputs": []
    },
    {
      "cell_type": "markdown",
      "source": [
        "Проверьте, что вы правильно вычислили функцию потерь на этих объектах. В клетке ниже мы проверяем это с помощью функции `torch.allclose()`, которая проверяет, что тензор, который получился у вас, совпадает с тензором, который должен был получиться. Если у вас вылетела ошибка, вернитесь к заданию 2. В норме клетка должна отработать без ошибок."
      ],
      "metadata": {
        "id": "xoReLncR7Tei"
      }
    },
    {
      "cell_type": "code",
      "source": [
        "assert torch.allclose(loss, torch.DoubleTensor([3.66]), rtol=1e-3), 'Пока неверно. Провертье реализацию класса LogisticRegression и функцию потерь'"
      ],
      "metadata": {
        "id": "Wgi7ijXf0H7T"
      },
      "execution_count": null,
      "outputs": []
    },
    {
      "cell_type": "markdown",
      "metadata": {
        "id": "4NV-JrNCoP8E"
      },
      "source": [
        "### Код обучения\n",
        "\n",
        "Вот псевдокод, который поможет вам разобраться в том, что происходит во время обучения\n",
        "\n",
        "```python\n",
        "for epoch in range(max_epochs):  # <----------- итерируемся по датасету несколько раз\n",
        "    for x_batch, y_batch in dataset:  # <------ итерируемся по датасету. Так как мы используем SGD а не GD, то берем батчи заданного размера\n",
        "        optimizer.zero_grad()  # <------------- обуляем градиенты модели\n",
        "        outp = model(x_batch)  # <------------- получаем \"логиты\" из модели\n",
        "        loss = loss_func(outp, y_batch)  # <--- считаем \"лосс\" для логистической регрессии\n",
        "        loss.backward()  # <------------------- считаем градиенты\n",
        "        optimizer.step()  # <------------------ делаем шаг градиентного спуска\n",
        "        if convergence:  # <------------------- в случае сходимости выходим из цикла\n",
        "            break\n",
        "```\n",
        "\n",
        "В коде ниже добавлено логирование `accuracy` и `loss`."
      ]
    },
    {
      "cell_type": "markdown",
      "metadata": {
        "id": "U1DvfCPY7TMZ"
      },
      "source": [
        "### Задание 3. Реализация цикла обучения (3 балла)"
      ]
    },
    {
      "cell_type": "code",
      "source": [
        "logistic_regression = LogisticRegression(n=2)\n",
        "optimizer = torch.optim.SGD(logistic_regression.parameters(), lr=0.05)"
      ],
      "metadata": {
        "id": "GHDCxL0nW5_t"
      },
      "execution_count": null,
      "outputs": []
    },
    {
      "cell_type": "code",
      "metadata": {
        "id": "gVhlIfK0L93s"
      },
      "source": [
        "tol = 1e-3\n",
        "losses = []\n",
        "max_epochs = 100\n",
        "prev_weights = torch.zeros_like(logistic_regression.weights)\n",
        "stop_it = False\n",
        "for epoch in range(max_epochs):\n",
        "    for it, (X_batch, y_batch) in enumerate(train_dataloader):\n",
        "        optimizer.zero_grad()\n",
        "\n",
        "\n",
        "        outp =  # YOUR CODE. Используйте объект logistic_regression, чтобы вычислить outputs на X_batch.\n",
        "\n",
        "        outp = outp.flatten()\n",
        "\n",
        "        loss =  # YOUR CODE. Вычислите функцию потерь. Используйте алгоритм вычисления, который вы реализовали в предыдущем задании.\n",
        "\n",
        "\n",
        "        loss.backward()\n",
        "        losses.append(loss.detach().flatten()[0])\n",
        "        optimizer.step()\n",
        "\n",
        "\n",
        "        probabilities =  # YOUR CODE. Вычислите вероятности по формуле σ(Xw). Используйте переменную outp.\n",
        "\n",
        "\n",
        "        preds = (probabilities > 0.5).type(torch.long) # сейчас preds равны 0 или 1\n",
        "        preds = preds * 2 - 1 # а теперь уже +- 1\n",
        "\n",
        "        batch_acc = (preds.flatten() == y_batch).type(torch.float32).sum() / y_batch.size(0)\n",
        "\n",
        "        if (it + epoch * len(train_dataloader)) % 100 == 0:\n",
        "            print(f\"Iteration: {it + epoch * len(train_dataloader)}\\nBatch accuracy: {batch_acc}\")\n",
        "        current_weights = logistic_regression.weights.detach().clone()\n",
        "        if (prev_weights - current_weights).abs().max() < tol:\n",
        "            print(f\"\\nIteration: {it + epoch * len(train_dataloader)}.Convergence. Stopping iterations.\")\n",
        "            stop_it = True\n",
        "            break\n",
        "        prev_weights = current_weights\n",
        "    if stop_it:\n",
        "        break"
      ],
      "execution_count": null,
      "outputs": []
    },
    {
      "cell_type": "markdown",
      "metadata": {
        "id": "QBJ64-MT63_r"
      },
      "source": [
        "**Вопрос 1.** Сколько итераций потребовалось, чтобы алгоритм сошелся? **Обратите внимание, после перезапуска ноутбука перед отправкой на Stepik это число может измениться, так как есть небольшая случайная вариативность. Введите ответ, который дает итоговая версия вашего ноутбука.**\n",
        "\n",
        "**Ответ:**"
      ]
    },
    {
      "cell_type": "markdown",
      "metadata": {
        "id": "As-pgFbzFmiI"
      },
      "source": [
        "### Визуализируем результаты"
      ]
    },
    {
      "cell_type": "code",
      "metadata": {
        "id": "HzPRB8j4b1IF"
      },
      "source": [
        "plt.figure(figsize=(12, 8))\n",
        "plt.plot(range(len(losses)), losses)\n",
        "plt.xlabel(\"Iteration\")\n",
        "plt.ylabel(\"Loss\")\n",
        "plt.show()"
      ],
      "execution_count": null,
      "outputs": []
    },
    {
      "cell_type": "code",
      "metadata": {
        "id": "9cGgcBMNX2WP"
      },
      "source": [
        "import numpy as np\n",
        "\n",
        "sns.set(style=\"white\")\n",
        "\n",
        "xx, yy = np.mgrid[-1.5:2.5:.01, -1.:1.5:.01]\n",
        "grid = np.c_[xx.ravel(), yy.ravel()]\n",
        "batch = torch.from_numpy(grid).type(torch.float64)\n",
        "with torch.no_grad():\n",
        "    probs = torch.sigmoid(logistic_regression(batch).reshape(xx.shape))\n",
        "    probs = probs.numpy().reshape(xx.shape)\n",
        "\n",
        "f, ax = plt.subplots(figsize=(16, 10))\n",
        "ax.set_title(\"Decision boundary\", fontsize=14)\n",
        "contour = ax.contourf(xx, yy, probs, 25, cmap=\"RdBu\",\n",
        "                      vmin=0, vmax=1)\n",
        "ax_c = f.colorbar(contour)\n",
        "ax_c.set_label(\"$P(y = 1)$\")\n",
        "ax_c.set_ticks([0, .25, .5, .75, 1])\n",
        "\n",
        "ax.scatter(X[100:,0], X[100:, 1], c=y[100:], s=50,\n",
        "           cmap=\"RdBu\", vmin=-.2, vmax=1.2,\n",
        "           edgecolor=\"white\", linewidth=1)\n",
        "\n",
        "ax.set(xlabel=\"$X_1$\", ylabel=\"$X_2$\")\n",
        "plt.show()"
      ],
      "execution_count": null,
      "outputs": []
    },
    {
      "cell_type": "markdown",
      "source": [
        "Сравним с картинкой, которую дает логистическая регрессия, реализованная в библиотеке sklearn."
      ],
      "metadata": {
        "id": "vBEfZOjkVR7X"
      }
    },
    {
      "cell_type": "code",
      "source": [
        "from sklearn.linear_model import LogisticRegression as lr\n",
        "from sklearn.metrics import accuracy_score\n",
        "\n",
        "model = lr(C=10000).fit(X_train, y_train)\n",
        "accuracy_score(y_val, model.predict(X_val))\n"
      ],
      "metadata": {
        "id": "-bZvVVYoKbap"
      },
      "execution_count": null,
      "outputs": []
    },
    {
      "cell_type": "code",
      "source": [
        "from matplotlib.colors import ListedColormap\n",
        "cmap_light = ListedColormap(['#FFAAAA', '#AAFFAA', '#AAAAFF'])\n",
        "\n",
        "plt.figure(figsize=(13,10))\n",
        "\n",
        "x_min = -1.5\n",
        "x_max = 2.5\n",
        "y_min = -1.\n",
        "y_max = 1.5\n",
        "h = 0.005\n",
        "\n",
        "plt.xlim((x_min, x_max))\n",
        "plt.ylim((y_min, y_max))\n",
        "xx, yy = np.meshgrid(np.arange(x_min, x_max, h),\n",
        "                        np.arange(y_min, y_max, h))\n",
        "\n",
        "Z = model.predict(np.c_[xx.ravel(), yy.ravel()])\n",
        "\n",
        "Z = Z.reshape(xx.shape)\n",
        "\n",
        "plt.pcolormesh(xx, yy, Z, cmap=cmap_light)\n",
        "\n",
        "plt.scatter(X[:, 0], X[:, 1],)\n",
        "plt.show()"
      ],
      "metadata": {
        "id": "4QRtzezhLQHV"
      },
      "execution_count": null,
      "outputs": []
    },
    {
      "cell_type": "markdown",
      "source": [
        "**Вопрос 2**. Совпадают ли разделяющие поверхности?\n",
        "\n",
        "**Ответ:**"
      ],
      "metadata": {
        "id": "eNeqZ-ScVliN"
      }
    },
    {
      "cell_type": "markdown",
      "metadata": {
        "id": "M9G-UkrE-Arr"
      },
      "source": [
        "### Задание 4. Реализуйте predict и посчитайте accuracy на всем тестовом множестве (2 балла)\n",
        "\n",
        "Функция predict должна возвращать вектор из $\\ell$\n",
        "элементов, каждый из которых равен $\\pm 1$."
      ]
    },
    {
      "cell_type": "code",
      "metadata": {
        "id": "FP_imFpe7Ac4"
      },
      "source": [
        "@torch.no_grad()\n",
        "def predict(dataloader, model):\n",
        "    model.eval()\n",
        "\n",
        "    outp = logistic_regression(X_val_t).flatten()\n",
        "\n",
        "    #YOUR CODE\n",
        "\n",
        "    preds = #YOUR CODE. Вычислите предсказанные классы на всем валидационном множестве.\n",
        "    # Не забудьте привести предсказания в формат +-1\n",
        "\n",
        "    return preds"
      ],
      "execution_count": null,
      "outputs": []
    },
    {
      "cell_type": "code",
      "metadata": {
        "id": "v0vaJdAS7Dfq"
      },
      "source": [
        "from sklearn.metrics import accuracy_score\n",
        "\n",
        "# YOUR CODE. Вычислите общее accuracy"
      ],
      "execution_count": null,
      "outputs": []
    },
    {
      "cell_type": "markdown",
      "metadata": {
        "id": "s7TXs3kk7Kmq"
      },
      "source": [
        "**Вопрос 3**\n",
        "\n",
        "Какое `accuracy` получается после обучения? **Обратите внимание, после перезапуска ноутбука перед отправкой на Stepik это число может измениться, так как есть небольшая случайная вариативность. Введите ответ, который дает итоговая версия вашего ноутбука.**\n",
        "\n",
        "**Ответ:**"
      ]
    },
    {
      "cell_type": "code",
      "source": [],
      "metadata": {
        "id": "Txmau5Qock0U"
      },
      "execution_count": null,
      "outputs": []
    }
  ]
}