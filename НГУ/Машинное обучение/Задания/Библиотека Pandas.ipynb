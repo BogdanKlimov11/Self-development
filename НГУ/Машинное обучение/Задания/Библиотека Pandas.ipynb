{
  "nbformat": 4,
  "nbformat_minor": 0,
  "metadata": {
    "colab": {
      "provenance": []
    },
    "kernelspec": {
      "name": "python3",
      "display_name": "Python 3"
    },
    "language_info": {
      "name": "python"
    }
  },
  "cells": [
    {
      "cell_type": "markdown",
      "metadata": {
        "id": "ka8EsSp8YNED"
      },
      "source": [
        "# Домашнее задание. Библиотека Pandas\n",
        "В этом задании вы проанализируете данные из Appstore\n",
        "\n",
        "<img src=\"https://drive.google.com/uc?export=view&id=1F1Qajgj-dC4o4VI3Wm7fIGlOJA0a60_B\" width=300 height=300>"
      ]
    },
    {
      "cell_type": "code",
      "metadata": {
        "id": "Rl48-GqCYNEF"
      },
      "source": [
        "#!pip install pandas"
      ],
      "execution_count": null,
      "outputs": []
    },
    {
      "cell_type": "code",
      "metadata": {
        "id": "fNjo9Tk7YNEI"
      },
      "source": [
        "import pandas as pd\n",
        "import numpy as np"
      ],
      "execution_count": null,
      "outputs": []
    },
    {
      "cell_type": "markdown",
      "metadata": {
        "id": "1xPaEni5YNEL"
      },
      "source": [
        "### Данные для задания: https://drive.google.com/file/d/1JVVkVH5PysaGwULKZKFRVZTc6n4psAvW/view?usp=sharing\n",
        "\n"
      ]
    },
    {
      "cell_type": "code",
      "metadata": {
        "id": "my6fQWvBYNEM"
      },
      "source": [
        "data = pd.read_csv('https://drive.google.com/uc?id=1JVVkVH5PysaGwULKZKFRVZTc6n4psAvW')"
      ],
      "execution_count": null,
      "outputs": []
    },
    {
      "cell_type": "markdown",
      "metadata": {
        "id": "Tvo9H9BpYNEN"
      },
      "source": [
        "Посмотрим, что же такое переменная `data`:"
      ]
    },
    {
      "cell_type": "code",
      "metadata": {
        "id": "45ckp1neYNEO"
      },
      "source": [
        "data"
      ],
      "execution_count": null,
      "outputs": []
    },
    {
      "cell_type": "code",
      "metadata": {
        "id": "f0SspKW5YNEU"
      },
      "source": [
        "type(data)"
      ],
      "execution_count": null,
      "outputs": []
    },
    {
      "cell_type": "markdown",
      "metadata": {
        "id": "8Euq1CYeYNEX"
      },
      "source": [
        "---"
      ]
    },
    {
      "cell_type": "markdown",
      "metadata": {
        "id": "kwm98nkcYNEY"
      },
      "source": [
        "#### Вопрос"
      ]
    },
    {
      "cell_type": "markdown",
      "metadata": {
        "id": "sd8GKDI2YNEZ"
      },
      "source": [
        "О чём данные? (Hint: https://www.kaggle.com/sdolezel/black-friday)"
      ]
    },
    {
      "cell_type": "markdown",
      "metadata": {
        "id": "3q3tNGOrYNEa"
      },
      "source": [
        "#### Основное задание (в тесте надо будет вставлять ответы для этих пунктов):"
      ]
    },
    {
      "cell_type": "markdown",
      "metadata": {
        "id": "--kzTfO2YNEb"
      },
      "source": [
        "*Примечание:* не бойтесь гуглить и заглядывать в \"Полезные ссылки\" для того, чтобы выполнить какие-то задания. Возможно, на семинаре не было какого-то нужного метода, но он находится в поисковике за 2 минуты."
      ]
    },
    {
      "cell_type": "markdown",
      "metadata": {
        "id": "WXRRMZe7YNEb"
      },
      "source": [
        "## Задание 1\n",
        "Сколько всего возрастных категорий?  "
      ]
    },
    {
      "cell_type": "code",
      "metadata": {
        "id": "bj7ljslWYNEd"
      },
      "source": [
        "# Ваш код здесь"
      ],
      "execution_count": null,
      "outputs": []
    },
    {
      "cell_type": "markdown",
      "metadata": {
        "id": "H4UpHEFbYNEf"
      },
      "source": [
        "## Задание 2\n",
        "Сколько строк с мужчинами из категории города A? (речь не об уникальных ID мужчин, а о количестве строк)  "
      ]
    },
    {
      "cell_type": "code",
      "metadata": {
        "id": "QvbBZrkpYNEg"
      },
      "source": [
        "# Ваш код здесь"
      ],
      "execution_count": null,
      "outputs": []
    },
    {
      "cell_type": "markdown",
      "metadata": {
        "id": "PDC06O38YNEi"
      },
      "source": [
        "## Задание 3\n",
        "Сколько женщин от 46 до 50, потративших (столбец Purchase) больше 20000 (условных единиц, в данном случае)?   (речь не об уникальных ID, а о количестве строк)  "
      ]
    },
    {
      "cell_type": "code",
      "metadata": {
        "id": "T2_v92xoYNEi"
      },
      "source": [
        "# Ваш код здесь"
      ],
      "execution_count": null,
      "outputs": []
    },
    {
      "cell_type": "markdown",
      "metadata": {
        "id": "oQNZ-8egYNEm"
      },
      "source": [
        "## Задание 4\n",
        "Сколько NaN'ов в столбце Product_Category_3?  "
      ]
    },
    {
      "cell_type": "code",
      "metadata": {
        "id": "nwxjErPQYNEn"
      },
      "source": [
        "# Ваш код здесь"
      ],
      "execution_count": null,
      "outputs": []
    },
    {
      "cell_type": "markdown",
      "metadata": {
        "id": "DxR8KgxBYNEs"
      },
      "source": [
        "## Задание 5\n",
        "Какую долю (вещественное число от 0 до 1, округлить до 4-го знака) от всех покупателей составляют ВМЕСТЕ мужчины от 26 до 35 лет и женщины старше 36 лет (то есть нужно учесть несколько возрастных категорий)? (речь не об уникальных ID, а о количестве таких строк)  "
      ]
    },
    {
      "cell_type": "code",
      "metadata": {
        "id": "ICK0SOJJYNEt"
      },
      "source": [
        "# Ваш код здесь"
      ],
      "execution_count": null,
      "outputs": []
    },
    {
      "cell_type": "markdown",
      "metadata": {
        "id": "Vv1xTr2YYNEw"
      },
      "source": [
        "---"
      ]
    },
    {
      "cell_type": "markdown",
      "metadata": {
        "id": "ElI6jhXnYNEx"
      },
      "source": [
        "Больше про pandas можно найти по этом полезным ссылкам:"
      ]
    },
    {
      "cell_type": "markdown",
      "metadata": {
        "id": "itKnSrTFYNEx"
      },
      "source": [
        "* Официальные туториалы: http://pandas.pydata.org/pandas-docs/stable/tutorials.html"
      ]
    },
    {
      "cell_type": "markdown",
      "metadata": {
        "id": "5anYf9hGYNEy"
      },
      "source": [
        "* Статья на Хабре от [OpenDataScience сообщества](http://ods.ai/)**:** https://habr.com/company/ods/blog/322626/"
      ]
    },
    {
      "cell_type": "markdown",
      "metadata": {
        "id": "RtVuI14DYNEz"
      },
      "source": [
        "* Подробный гайд: https://media.readthedocs.org/pdf/pandasguide/latest/pandasguide.pdf"
      ]
    },
    {
      "cell_type": "markdown",
      "metadata": {
        "id": "MySaKecMYNE0"
      },
      "source": [
        "Главное в работе с новыми библиотеками -- не бояться тыкать в разные функции, смотреть типы возвращаемых объектов и активно гуглить, а ещё лучше понимать всё из docstring'а (`Shift+Tab` при нахождении курсора внутри скобок функции)."
      ]
    }
  ]
}