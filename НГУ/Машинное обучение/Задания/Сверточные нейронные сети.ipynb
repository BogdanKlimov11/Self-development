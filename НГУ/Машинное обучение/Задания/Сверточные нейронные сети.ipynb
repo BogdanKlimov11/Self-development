{
  "nbformat": 4,
  "nbformat_minor": 0,
  "metadata": {
    "colab": {
      "provenance": []
    },
    "kernelspec": {
      "name": "python3",
      "display_name": "Python 3"
    },
    "language_info": {
      "name": "python"
    }
  },
  "cells": [
    {
      "cell_type": "markdown",
      "source": [
        "# Домашнее задание. Сверточные нейронные сети (10 баллов)\n",
        "В этом домашнем задании вы потренируетесь в построении полносвязных и сверточных нейронных сетей. Мы сравним качество нейросетей на датасете MNIST с рукописными цифрами. Наша цель --- построить нейронную сеть для решения задачи классификации цифр на 10 классов.\n",
        "\n",
        "## Оценивание задания\n",
        "Это задание будет проверяться в формате peer-review. Это означает, что вашу посылку на Stepik будут проверять 3 других учащихся, и медианное значение их оценок будет выставлено в качестве окончательного балла. Чтобы получить баллы, вам также нужно будет проверить трех других учеников. Это станет доступно после того, как вы сдадите задание сами.\n",
        "\n",
        "## Оформление посылки\n",
        "В качестве решения необходимо послать ноутбук в формате .ipynb. Пожалуйста, сделайте файл максимально читаемым. Если размер вашего файла превышает 5 Мб, приложите текстовый документ со ссылкой на файл в Google Drive (не забудьте обеспечить доступ на чтение). Пожалуйста, проследите, чтобы у файла было верное расширение: иначе у других участников могут возникнуть проблемы с прочтением.\n",
        "\n",
        "## Рекомендации по решению\n",
        "Подробные критерии проверки станут доступными во время проверки на Stepik. Пока мы предлагаем несколько правил, которые помогут вам набрать максимальное количество баллов.\n",
        "* Сначала оформите ноутбук, а затем перезапустите среду выполнения и выполните ноутбук заново (Среда выполнения→перезапустить и выполнить всё). Так вы убедитесь, что итоговый код вашего ноутбука корректен.\n",
        "* В ноутбуке есть два типа проверки: 2 `assert`'а и 4 ключевых вопроса. Корректное решение должно проходить все `assert`-ы. Также необходимо дать ответы на все вопросы из ноутбука.\n",
        "* Чем более понятным и читаемым вы сделаете код, тем больше шансов, что проверяющий поставит вам за него высокий балл.\n",
        "\n",
        "Желаем удачи!\n"
      ],
      "metadata": {
        "id": "O9Adfkybw7a_"
      }
    },
    {
      "cell_type": "code",
      "execution_count": null,
      "metadata": {
        "id": "JgIDz7-fMTo5"
      },
      "outputs": [],
      "source": [
        "import numpy as np\n",
        "\n",
        "import seaborn as sns\n",
        "from matplotlib import pyplot as plt\n",
        "\n",
        "from sklearn.datasets import make_moons\n",
        "from sklearn.model_selection import train_test_split\n",
        "\n",
        "import torch\n",
        "from torch import nn\n",
        "from torch.nn import functional as F\n",
        "\n",
        "import torchvision.transforms as tfs\n",
        "\n",
        "from torch.utils.data import TensorDataset, DataLoader\n",
        "\n",
        "sns.set(style=\"darkgrid\", font_scale=1.4)"
      ]
    },
    {
      "cell_type": "markdown",
      "metadata": {
        "id": "cyivMZBZC0Ha"
      },
      "source": [
        "## Датасет MNIST\n",
        "Датасет MNIST содержит рукописные цифры. Загрузим датасет и создадим DataLoader-ы. Пример можно найти в семинаре по полносвязным нейронным сетям."
      ]
    },
    {
      "cell_type": "code",
      "metadata": {
        "id": "LuUE2wihC4GW"
      },
      "source": [
        "import os\n",
        "from torchvision.datasets import MNIST\n",
        "\n",
        "data_tfs = tfs.Compose([\n",
        "    tfs.ToTensor(),\n",
        "    tfs.Normalize((0.5), (0.5))\n",
        "])\n",
        "\n",
        "# install for train and test\n",
        "root = './'\n",
        "train_dataset = MNIST(root, train=True,  transform=data_tfs, download=True)\n",
        "val_dataset  = MNIST(root, train=False, transform=data_tfs, download=True)\n",
        "\n",
        "train_dataloader =  # YOUR CODE GOES HERE\n",
        "valid_dataloader =  # YOUR CODE GOES HERE"
      ],
      "execution_count": null,
      "outputs": []
    },
    {
      "cell_type": "markdown",
      "metadata": {
        "id": "4t2w2XtSB1Hd"
      },
      "source": [
        "## Часть 1. Полносвязные нейронные сети (3 балла)\n",
        "Сначала решим MNIST с помощью полносвязной нейронной сети."
      ]
    },
    {
      "cell_type": "markdown",
      "metadata": {
        "id": "HMtCBdCA-4bj"
      },
      "source": [
        "### Задание. Простая полносвязная нейронная сеть (1 балл)\n",
        "\n",
        "Создайте полносвязную нейронную сеть с помощью класса Sequential. Сеть состоит из:\n",
        "* Уплощения матрицы в вектор (nn.Flatten);\n",
        "* Двух скрытых слоёв из 128 нейронов с активацией nn.ELU;\n",
        "* Выходного слоя с 10 нейронами.\n",
        "\n",
        "Задайте функцию потерь для обучения (кросс-энтропия).\n"
      ]
    },
    {
      "cell_type": "code",
      "metadata": {
        "id": "ulxWHddEiQCr"
      },
      "source": [
        "activation = nn.ELU\n",
        "\n",
        "model = nn.Sequential(\n",
        "    nn.Flatten(),\n",
        "    #YOUR CODE. Add layers to your sequential class\n",
        ")"
      ],
      "execution_count": null,
      "outputs": []
    },
    {
      "cell_type": "code",
      "metadata": {
        "id": "FIl6z-AfivcK"
      },
      "source": [
        "criterion = #YOUR CODE. Select a loss function\n",
        "optimizer = torch.optim.Adam(model.parameters())\n",
        "\n",
        "loaders = {\"train\": train_dataloader, \"valid\": valid_dataloader}"
      ],
      "execution_count": null,
      "outputs": []
    },
    {
      "cell_type": "code",
      "metadata": {
        "id": "whvqhLjYmpKc"
      },
      "source": [
        "device = \"cuda\" if torch.cuda.is_available() else \"cpu\""
      ],
      "execution_count": null,
      "outputs": []
    },
    {
      "cell_type": "markdown",
      "metadata": {
        "id": "4Xl_HawRGRAe"
      },
      "source": [
        "### Train loop (seriously)\n",
        "\n",
        "Давайте разберемся с кодом ниже, который подойдет для 90% задач в будущем.\n",
        "\n",
        "\n",
        "```python\n",
        "for epoch in range(max_epochs):  # <--------------- итерируемся по датасету несколько раз\n",
        "    for k, dataloader in loaders.items():  # <----- несколько dataloader для train / valid / test\n",
        "        for x_batch, y_batch in dataloader:  # <--- итерируемся по датасету. Так как мы используем SGD а не GD, то берем батчи заданного размера\n",
        "            if k == \"train\":\n",
        "                model.train()  # <------------------ переводим модель в режим train\n",
        "                optimizer.zero_grad()  # <--------- обнуляем градиенты модели\n",
        "                outp = model(x_batch)\n",
        "                loss = criterion(outp, y_batch) # <-считаем \"лосс\" для логистической регрессии\n",
        "                loss.backward()  # <--------------- считаем градиенты\n",
        "                optimizer.step()  # <-------------- делаем шаг градиентного спуска\n",
        "            else:  # <----------------------------- test/eval\n",
        "                model.eval()  # <------------------ переводим модель в режим eval\n",
        "                with torch.no_grad():  # <--------- НЕ считаем градиенты\n",
        "                    outp = model(x_batch)  # <------------- получаем \"логиты\" из модели\n",
        "            count_metrics(outp, y_batch)  # <-------------- считаем метрики\n",
        "```"
      ]
    },
    {
      "cell_type": "markdown",
      "metadata": {
        "id": "raKQWwQm_9Ff"
      },
      "source": [
        "### Задание. Дополните цикл обучения (1 балл)"
      ]
    },
    {
      "cell_type": "code",
      "metadata": {
        "id": "3Tmo1lsHjBE6"
      },
      "source": [
        "max_epochs = 10\n",
        "accuracy = {\"train\": [], \"valid\": []}\n",
        "for epoch in range(max_epochs):\n",
        "    for k, dataloader in loaders.items():\n",
        "        epoch_correct = 0\n",
        "        epoch_all = 0\n",
        "        for x_batch, y_batch in dataloader:\n",
        "            if k == \"train\":\n",
        "                 # YOUR CODE. Set model to ``train`` mode and calculate outputs. Don't forget zero_grad!\n",
        "            else:\n",
        "                 # YOUR CODE. Set model to ``eval`` mode and calculate outputs\n",
        "            preds = outp.argmax(-1)\n",
        "            correct =  # YOUR CODE GOES HERE\n",
        "            all =  # YOUR CODE GOES HERE\n",
        "            epoch_correct += correct.item()\n",
        "            epoch_all += all\n",
        "            if k == \"train\":\n",
        "                loss = criterion(outp, y_batch)\n",
        "                # YOUR CODE. Calculate gradients and make a step of your optimizer\n",
        "        if k == \"train\":\n",
        "            print(f\"Epoch: {epoch+1}\")\n",
        "        print(f\"Loader: {k}. Accuracy: {epoch_correct/epoch_all}\")\n",
        "        accuracy[k].append(epoch_correct/epoch_all)\n"
      ],
      "execution_count": null,
      "outputs": []
    },
    {
      "cell_type": "code",
      "source": [
        "assert elu_accuracy[-1] > 0.97, 'Модель недостаточно хорошая. Нужно искать ошибку!'"
      ],
      "metadata": {
        "id": "q0actT_J8CAF"
      },
      "execution_count": null,
      "outputs": []
    },
    {
      "cell_type": "markdown",
      "metadata": {
        "id": "fFRxO1-FK9U9"
      },
      "source": [
        "### Задание. Протестируйте разные функции активации (1 балл)\n",
        "Попробуйте разные функции активации. Для каждой функции активации посчитайте массив validation accuracy. Лучше реализовать это в виде функции, берущей на вход активацию и получающей массив из accuracies.\n",
        "\n",
        "Вам необходимо попробовать следующие функции активации:\n",
        "* тождественная функция активации $f(x) = x$ (класс Identical реализован за вас ниже)\n",
        "* сигмоида;\n",
        "* ReLU;\n",
        "* Leaky ReLU;\n",
        "* Tanh (гиперболический тангенс).\n"
      ]
    },
    {
      "cell_type": "code",
      "metadata": {
        "id": "SezseDhEqhm2"
      },
      "source": [
        "elu_accuracy = accuracy[\"valid\"]"
      ],
      "execution_count": null,
      "outputs": []
    },
    {
      "cell_type": "code",
      "metadata": {
        "id": "lSVBlHtuAUAh"
      },
      "source": [
        "# YOUR CODE. Do the same thing with other activations (it's better to wrap into a function that returns a list of accuracies)\n",
        "\n",
        "def test_activation_function(activation):\n",
        "    #YOUR CODE"
      ],
      "execution_count": null,
      "outputs": []
    },
    {
      "cell_type": "code",
      "metadata": {
        "id": "Zvcy_wYFh1Lv"
      },
      "source": [
        "class Identical(nn.Module):\n",
        "    def forward(self, x):\n",
        "        return x"
      ],
      "execution_count": null,
      "outputs": []
    },
    {
      "cell_type": "code",
      "metadata": {
        "id": "a1iXow0Tqsri"
      },
      "source": [
        "plain_accuracy = test_activation_function(Identical)\n",
        "sigmoid_accuracy = #YOUR CODE\n",
        "relu_accuracy = #YOUR CODE\n",
        "leaky_relu_accuracy = #YOUR CODE\n",
        "tanh_accuracy = #YOUR CODE"
      ],
      "execution_count": null,
      "outputs": []
    },
    {
      "cell_type": "markdown",
      "metadata": {
        "id": "FK07mms3FwNd"
      },
      "source": [
        "### Accuracy\n",
        "Построим график accuracy/epoch для каждой функции активации."
      ]
    },
    {
      "cell_type": "code",
      "metadata": {
        "id": "cvKclpM5r-P3"
      },
      "source": [
        "sns.set(style=\"darkgrid\", font_scale=1.4)\n",
        "\n",
        "plt.figure(figsize=(16, 10))\n",
        "plt.title(\"Valid accuracy\")\n",
        "plt.plot(range(max_epochs), plain_accuracy, label=\"No activation\", linewidth=2)\n",
        "plt.plot(range(max_epochs), sigmoid_accuracy, label=\"Sigmoid activation\", linewidth=2)\n",
        "plt.plot(range(max_epochs), relu_accuracy, label=\"ReLU activation\", linewidth=2)\n",
        "plt.plot(range(max_epochs), leaky_relu_accuracy, label=\"LeakyReLU activation\", linewidth=2)\n",
        "plt.plot(range(max_epochs), elu_accuracy, label=\"ELU activation\", linewidth=2)\n",
        "plt.plot(range(max_epochs), tanh_accuracy, label=\"Tanh activation\", linewidth=2)\n",
        "\n",
        "plt.legend()\n",
        "plt.xlabel(\"Epoch\")\n",
        "plt.show()"
      ],
      "execution_count": null,
      "outputs": []
    },
    {
      "cell_type": "code",
      "metadata": {
        "id": "4R8L1JCts_qz"
      },
      "source": [
        "plt.figure(figsize=(16, 10))\n",
        "plt.title(\"Valid accuracy\")\n",
        "plt.plot(range(max_epochs), relu_accuracy, label=\"ReLU activation\", linewidth=2)\n",
        "plt.plot(range(max_epochs), leaky_relu_accuracy, label=\"LeakyReLU activation\", linewidth=2)\n",
        "plt.plot(range(max_epochs), elu_accuracy, label=\"ELU activation\", linewidth=2)\n",
        "plt.plot(range(max_epochs), tanh_accuracy, label=\"Tanh activation\", linewidth=2)\n",
        "plt.legend()\n",
        "plt.xlabel(\"Epoch\")\n",
        "plt.show()"
      ],
      "execution_count": null,
      "outputs": []
    },
    {
      "cell_type": "markdown",
      "metadata": {
        "id": "bl8qYSSa7c-r"
      },
      "source": [
        "**Вопрос 1.** Какая из активаций показала наивысший `accuracy` к концу обучения?\n",
        "\n",
        "**Ответ:**"
      ]
    },
    {
      "cell_type": "markdown",
      "metadata": {
        "id": "ebq7icV8CbrU"
      },
      "source": [
        "## Часть 2 Сверточные нейронные сети (7 баллов)"
      ]
    },
    {
      "cell_type": "markdown",
      "metadata": {
        "id": "9bXylTAuCqu-"
      },
      "source": [
        "### Ядра (1 балл)\n",
        "Сначала немного поработам с самим понятием ядра свёртки."
      ]
    },
    {
      "cell_type": "code",
      "metadata": {
        "id": "G7P75exc0acy"
      },
      "source": [
        "!wget https://img.the-village.kz/the-village.com.kz/post-cover/5x5-I6oiwjmq79dMCZMEbA-default.jpg -O sample_photo.jpg"
      ],
      "execution_count": null,
      "outputs": []
    },
    {
      "cell_type": "code",
      "metadata": {
        "id": "88YOXq0CCyUM"
      },
      "source": [
        "import cv2\n",
        "sns.set(style=\"white\")\n",
        "img = cv2.imread(\"sample_photo.jpg\")\n",
        "RGB_img = cv2.cvtColor(img, cv2.COLOR_BGR2RGB)\n",
        "plt.figure(figsize=(12, 8))\n",
        "plt.imshow(RGB_img)\n",
        "plt.show()"
      ],
      "execution_count": null,
      "outputs": []
    },
    {
      "cell_type": "markdown",
      "metadata": {
        "id": "Iu9oxwbL-6xE"
      },
      "source": [
        "Попробуйте посмотреть как различные свертки влияют на фото. Например, попробуйте\n",
        "A)\n",
        "```\n",
        "[0, 0, 0],\n",
        "[0, 1, 0],\n",
        "[0, 0, 0]\n",
        "```\n",
        "Б)\n",
        "```\n",
        "[0, 1, 0],\n",
        "[0, -2, 0],\n",
        "[0, 1, 0]\n",
        "```\n",
        "В)\n",
        "```\n",
        "[0, 0, 0],\n",
        "[1, -2, 1],\n",
        "[0, 0, 0]\n",
        "```\n",
        "Г)\n",
        "```\n",
        "[0, 1, 0],\n",
        "[1, -4, 1],\n",
        "[0, 1, 0]\n",
        "```\n",
        "Д)\n",
        "```\n",
        "[0, -1, 0],\n",
        "[-1, 5, -1],\n",
        "[0, -1, 0]\n",
        "```\n",
        "Е)\n",
        "```\n",
        "[0.0625, 0.125, 0.0625],\n",
        "[0.125, 0.25, 0.125],\n",
        "[0.0625, 0.125, 0.0625]\n",
        "```\n",
        "\n",
        "Не стесняйтесь пробовать свои варианты!"
      ]
    },
    {
      "cell_type": "code",
      "metadata": {
        "id": "-0WNZro01pZE"
      },
      "source": [
        "img_t = torch.from_numpy(RGB_img).type(torch.float32).unsqueeze(0)\n",
        "kernel = torch.tensor([\n",
        "    [0, 0, 0],\n",
        "    [1, -2, 1],\n",
        "    [0, 0, 0]\n",
        "]).reshape(1, 1, 3, 3).type(torch.float32)\n",
        "\n",
        "kernel = kernel.repeat(3, 3, 1, 1)\n",
        "img_t = img_t.permute(0, 3, 1, 2)  # [BS, H, W, C] -> [BS, C, H, W]\n",
        "img_t = nn.ReflectionPad2d(1)(img_t)  # Pad Image for same output size\n",
        "\n",
        "result = F.conv2d(img_t, kernel)[0]  #"
      ],
      "execution_count": null,
      "outputs": []
    },
    {
      "cell_type": "code",
      "metadata": {
        "id": "C-SAfc7x28ko"
      },
      "source": [
        "plt.figure(figsize=(12, 8))\n",
        "result_np = result.permute(1, 2, 0).numpy() / 256 / 3\n",
        "\n",
        "plt.imshow(result_np)\n",
        "plt.show()"
      ],
      "execution_count": null,
      "outputs": []
    },
    {
      "cell_type": "markdown",
      "metadata": {
        "id": "oDapwqTXGC4e"
      },
      "source": [
        "**Вопрос 2.** Как можно описать действия ядер, приведенных выше? Сопоставьте для каждой буквы число.\n",
        "\n",
        "1) Размытие\n",
        "\n",
        "2) Увеличение резкости\n",
        "\n",
        "3) Тождественное преобразование\n",
        "\n",
        "4) Выделение вертикальных границ\n",
        "\n",
        "5) Выделение горизонтальных границ\n",
        "\n",
        "6) Выделение границ\n",
        "\n",
        "**Ответ:**"
      ]
    },
    {
      "cell_type": "markdown",
      "metadata": {
        "id": "4b9ib9saC9Vb"
      },
      "source": [
        "### Задание. Реализуйте LeNet (3 балла)\n",
        "\n",
        "Если мы сделаем параметры сверток обучаемыми, то можем добиться хороших результатов для задач компьютерного зрения. Реализуйте архитектуру LeNet, предложенную еще в 1998 году!\n",
        "На этот раз используйте модульную структуру (без помощи класса Sequential).\n",
        "\n",
        "Наша нейронная сеть будет состоять из\n",
        "* Свёртки 3x3 (1 карта на входе, 6 на выходе) с активацией ReLU;\n",
        "* MaxPooling-а 2x2;\n",
        "* Свёртки 3x3 (6 карт на входе, 16 на выходе) с активацией ReLU;\n",
        "* MaxPooling-а 2x2;\n",
        "* Уплощения (nn.Flatten);\n",
        "* Полносвязного слоя со 120 нейронами и активацией ReLU;\n",
        "* Полносвязного слоя с 84 нейронами и активацией ReLU;\n",
        "* Выходного слоя из 10 нейронов.\n",
        "\n",
        "\n"
      ]
    },
    {
      "cell_type": "code",
      "metadata": {
        "id": "lE8qJByKC-u0"
      },
      "source": [
        "class LeNet(nn.Module):\n",
        "    def __init__(self):\n",
        "        super(LeNet, self).__init__()\n",
        "        # 1 input image channel, 6 output channels, 3x3 square conv kernel\n",
        "        self.conv1 = nn.Conv2d(1, 6, 3)\n",
        "        self.pool1 = #YOUR CODE\n",
        "        self.conv2 = #YOUR CODE\n",
        "        self.pool2 = #YOUR CODE\n",
        "        self.fc1 = #YOUR CODE\n",
        "        self.fc2 = #YOUR CODE\n",
        "        self.fc3 = #YOUR CODE\n",
        "\n",
        "    def forward(self, x):\n",
        "        x = #YOUR CODE. Apply layers created in __init__.\n",
        "        ...\n",
        "        return x"
      ],
      "execution_count": null,
      "outputs": []
    },
    {
      "cell_type": "code",
      "metadata": {
        "id": "dgfBX_HPyd_z"
      },
      "source": [
        "model = LeNet().to(device)\n",
        "\n",
        "criterion = nn.CrossEntropyLoss()\n",
        "optimizer = torch.optim.Adam(model.parameters())\n",
        "\n",
        "loaders = {\"train\": train_dataloader, \"valid\": valid_dataloader}"
      ],
      "execution_count": null,
      "outputs": []
    },
    {
      "cell_type": "markdown",
      "metadata": {
        "id": "J21MIKtjRNWA"
      },
      "source": [
        "### Задание. Обучите CNN (3 балла)\n",
        "Используйте код обучения, который вы написали для полносвязной нейронной сети. Обратите внимание, что сверточная нейронная сеть будет обучаться дольше. Нейронную сеть необходимо обучить до стабилизации графика функции потерь на валидационной выборке! Для этого может потребоваться большое количество эпох.\n",
        "\n",
        "С какого-то момента качество на валидационной выборке начнет снова падать. В этот момент обучение можно прекращать.\n",
        "\n",
        "Обратите внимание, что если модель не успела сойтись и вам нужно большее количество эпох, модель можно не переобучать с нуля, а запустить с уже частично обученными весами. Подумайте, как это сделать в коде.\n",
        "\n",
        "\n",
        "Лучше запустить два эксперимента: на первом эксперименте оценить необходимое количество эпох, а на втором --- запустить обучение на таком количестве эпох и посчитать качество обученной модели на последней эпохе. Если бы в нашем распоряжении была тестовая выборка, можно было бы взять лучшую модель на валидации и вычислить ее качество на тесте."
      ]
    },
    {
      "cell_type": "code",
      "metadata": {
        "id": "X06XkVKiFQLi"
      },
      "source": [
        "<YOUR CODE>"
      ],
      "execution_count": null,
      "outputs": []
    },
    {
      "cell_type": "code",
      "metadata": {
        "id": "uFT5XKS1ytA2"
      },
      "source": [
        "lenet_accuracy = accuracy[\"valid\"]"
      ],
      "execution_count": null,
      "outputs": []
    },
    {
      "cell_type": "markdown",
      "metadata": {
        "id": "q-PwAI5SPMBx"
      },
      "source": [
        "Сравним с предыдущем пунктом"
      ]
    },
    {
      "cell_type": "code",
      "metadata": {
        "id": "VDq6pSi_yytp"
      },
      "source": [
        "plt.figure(figsize=(16, 10))\n",
        "plt.title(\"Valid accuracy\")\n",
        "plt.plot(range(max_epochs), relu_accuracy, label=\"ReLU activation\", linewidth=2)\n",
        "plt.plot(range(max_epochs), leaky_relu_accuracy, label=\"LeakyReLU activation\", linewidth=2)\n",
        "plt.plot(range(max_epochs), elu_accuracy, label=\"ELU activation\", linewidth=2)\n",
        "plt.plot(range(max_epochs), tanh_accuracy, label=\"Tanh activation\", linewidth=2)\n",
        "plt.plot(range(max_epochs), lenet_accuracy, label=\"LeNet\", linewidth=2)\n",
        "plt.legend()\n",
        "plt.xlabel(\"Epoch\")\n",
        "plt.show()"
      ],
      "execution_count": null,
      "outputs": []
    },
    {
      "cell_type": "markdown",
      "source": [
        "**Вопрос 3**. Стабилизировалось ли качество вашей модели? Какая модель из всех обученных показала лучший результат?\n",
        "\n",
        "**Ответ:**"
      ],
      "metadata": {
        "id": "HBPCyl3O_qlY"
      }
    },
    {
      "cell_type": "markdown",
      "metadata": {
        "id": "A3NCpTE3726m"
      },
      "source": [
        "**Вопрос 4**. Посчитайте accuracy после обучения с точностью до четырех знаков после запятой. Укажите качество с **последней** эпохи на валидационной выборке. **Обратите внимание, после перезапуска ноутбука перед отправкой на Stepik это число может измениться, так как есть небольшая случайная вариативность. Введите ответ, который дает итоговая версия вашего ноутбука.**"
      ]
    },
    {
      "cell_type": "code",
      "source": [
        "best_accuracy = # YOUR CODE\n",
        "assert best_accuracy > 0.987, 'Модель недостаточно хорошая. Нужно лучше!'"
      ],
      "metadata": {
        "id": "cVOesLKN1D1J"
      },
      "execution_count": null,
      "outputs": []
    }
  ]
}