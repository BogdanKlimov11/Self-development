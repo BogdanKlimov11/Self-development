{
  "nbformat": 4,
  "nbformat_minor": 0,
  "metadata": {
    "colab": {
      "provenance": []
    },
    "kernelspec": {
      "name": "python3",
      "display_name": "Python 3"
    },
    "language_info": {
      "name": "python"
    }
  },
  "cells": [
    {
      "cell_type": "markdown",
      "source": [
        "# Домашнее задание. Введение в библиотеку Numpy\n",
        "В этом домашнем задании вам предстоит решить несколько задач с использованием numpy. Мы рекомендуем решать задания сначала в Colab, а потом переносить их в систему: там есть много полезных комментариев.\n",
        "\n",
        "Первые задания являются тестовыми. Их можно сразу решать на Stepik.\n",
        "\n",
        "Во всех заданиях (кроме тех, в которых явно сказано обратное) необходимо использовать Numpy. Это, в частности, означает, что в таких заданиях нельзя (крайне не рекомендуется) использовать циклы, конструкции вроде `[f(a) for a in X]`, функции `map`, `filter` и т.д.\n",
        "\n",
        "Обратите внимание, что входные данные не обязательно должны представлять собой целые числа, могут быть любые действительные."
      ],
      "metadata": {
        "id": "51pIbgnfb69k"
      }
    },
    {
      "cell_type": "code",
      "source": [
        "import numpy as np"
      ],
      "metadata": {
        "id": "k4VMmgM-RnJf"
      },
      "execution_count": null,
      "outputs": []
    },
    {
      "cell_type": "markdown",
      "source": [
        "## Задание 1.\n",
        "Почему библиотека NumPy работает с массивами быстрее, чем обычный интерпретатор Python?\n",
        "\n",
        "1. NumPy -- библиотека, использующая методы машинного обучения для ускорения работы. Так, она способна анализировать, что пользователь использует чаще и выдавать бОльшие вычислительные мощности на эти методы\n",
        "2. Библиотеки, написанные на интерпретируемых языках (Python) работают быстрее, чем бибилиотеки, написанные на компилируемых (Си, Java, Фортран). NumPy написан на интерпретируемом языке.\n",
        "3. Библиотека NumPy использует специальные ускорители, которые расположены на удаленных кластерах и при подключении к Интернету процесс автоматически ускоряется\n",
        "4. Библиотеки, написанные на интерпретируемых языках (Python) работают медленнее, чем бибилиотеки, написанные на компилируемых (Си, Java, Фортран). NumPy написан на компилируемых языках."
      ],
      "metadata": {
        "id": "KFjpgZVwcXjn"
      }
    },
    {
      "cell_type": "markdown",
      "source": [
        "**Ответ**: _________"
      ],
      "metadata": {
        "id": "esKU8_adciJN"
      }
    },
    {
      "cell_type": "markdown",
      "source": [
        "## Задание 2.\n",
        "Каким способом можно обратиться к элементу двумерного массива? Выберите верные варианты кода.\n",
        "1. `my_array[1][2]`\n",
        "2. `my_array[1],[2]`\n",
        "3. `my_array[1, 2]`\n",
        "4. `my_array[1 2]`\n",
        "5. `my_array(1, 2)`\n"
      ],
      "metadata": {
        "id": "TB-uFFPqde8d"
      }
    },
    {
      "cell_type": "markdown",
      "source": [
        "**Ответ**: _________"
      ],
      "metadata": {
        "id": "uraAv7BKedB1"
      }
    },
    {
      "cell_type": "markdown",
      "source": [
        "## Задание 3.  \n",
        "Что общего между массивами NumPy и стандартными списками в Python?\n",
        "1. Можно напрямую умножать и список, и массив на число, без перебора элементов, например, `a * 5`, где `a` --- список или массив\n",
        "2. Можно обращаться к элементам через индексы в квадратных скобках, например, `a[1]`\n",
        "3. Нельзя складывать списки со списками и массивы с массивами напрямую, нужно делать это поэлементно. Например, нельзя складывать два массива так: `a + b`\n",
        "4. И массивы, и списки одинаково хорошо работают с большими данными\n"
      ],
      "metadata": {
        "id": "-SYwtxEIeNh8"
      }
    },
    {
      "cell_type": "markdown",
      "source": [
        "**Ответ**: _________"
      ],
      "metadata": {
        "id": "yfCRUk8cedd-"
      }
    },
    {
      "cell_type": "markdown",
      "source": [
        "## Задание 4.\n",
        "На вход дан одномерный массив $X$. Напишите функцию, которая выдает на вход массив из кумулятивных средних массива $X$. Иначе говоря, если $X = (x_1, x_2, \\ldots, x_n)$, то ответ должен быть равен $s = (s_1, s_2, \\ldots, s_n)$,  где $s_k=\\frac{x_1+...+x_k}{k}$.\n",
        "\n",
        "Используйте библиотеку <code>numpy</code> (вам поможет функция <code>cumsum</code>)."
      ],
      "metadata": {
        "id": "Jov2tvfrhCas"
      }
    },
    {
      "cell_type": "code",
      "source": [
        "def cumulative_mean(X):\n",
        "    #YOUR CODE\n",
        "\n",
        "    result = #YOUR CODE\n",
        "    return result"
      ],
      "metadata": {
        "id": "6elyO9H2hel_"
      },
      "execution_count": null,
      "outputs": []
    },
    {
      "cell_type": "code",
      "source": [
        "# test\n",
        "a = np.array([1, 2, 4, -9])\n",
        "\n",
        "assert np.allclose(cumulative_mean(a), np.array([1, 1.5, 7./3, -0.5]))"
      ],
      "metadata": {
        "id": "0si53kvihvik"
      },
      "execution_count": null,
      "outputs": []
    },
    {
      "cell_type": "markdown",
      "source": [
        "## Задание 5.\n",
        "На вход дан двумерный массив $X$. Напишите функцию `cumulative_mean_2d`, которая для каждой строчки $x = (x_1, x_2, \\ldots, x_n)$ массива $X$ строит строчку $s = (s_1, s_2, \\ldots, s_n)$,  где $s_k=\\frac{x_1+...+x_k}{k}$, а затем выдаёт массив из построенных строчек. Используйте библиотеку <code>numpy</code> (вам поможет функция <code>cumsum</code>). Выходом функции должен быть двумерный <code>numpy</code>-массив той же формы, что и $X$.\n",
        "\n",
        "Иначе говоря, вам необходимо написать функцию, аналогичную предыдущей, которая работает не только с одномерными, но и с двумерными массивами.\n"
      ],
      "metadata": {
        "id": "GuInNGecgmFC"
      }
    },
    {
      "cell_type": "code",
      "source": [
        "def cumulative_mean_2d(A):\n",
        "    \"\"\"\n",
        "    A: np.array[num_row, num_column]        --- матрица-аргумент\n",
        "    return S: np.array[num_row, num_column] --- выходная матрица кумулятивных сумм\n",
        "\n",
        "    Функция принимает на вход матрицу A размерностью n x m и возвращает\n",
        "    матрицу с той же размерностью n x m, i-ая строчка которой есть последовательность\n",
        "    кумулятивных сумм элементов i-ой строки матрицы A\n",
        "\n",
        "    В реализации этой функции необходимо использовать функционал пакета numpy\n",
        "\n",
        "    \"\"\"\n",
        "    #YOUR CODE\n",
        "\n",
        "    result = #YOUR CODE\n",
        "    return #YOUR CODE"
      ],
      "metadata": {
        "id": "YTyOl0vzg7bf"
      },
      "execution_count": null,
      "outputs": []
    },
    {
      "cell_type": "code",
      "source": [
        "#test\n",
        "a = np.array([1, 2, 4, -9, 1, 1, 1, 1]).reshape(2, 4)\n",
        "\n",
        "assert np.allclose(cumulative_mean_2d(a),\n",
        "                   np.array([1, 1.5, 7./3, -0.5, 1, 1, 1, 1]).reshape(2,4))"
      ],
      "metadata": {
        "id": "zg5JnVKniwgN"
      },
      "execution_count": null,
      "outputs": []
    },
    {
      "cell_type": "markdown",
      "source": [
        "## Задание 6.\n",
        "Задан массив $X$. Для массива $X$ необходимо сделать следующее преобразование.\n",
        "\n",
        "Необходимо написать функцию `transform`, которая построит новый массив, где все элементы с нечетными индексами требуется заменить на число 1. Все элементы с четными индексами нужно возвести в куб. Затем записать элементы в обратном порядке относительно их позиций.\n",
        "\n",
        "Используйте библиотеку `numpy`.\n",
        "\n",
        "Пример:\n",
        "[3, 1, 4, -1, 2, 3, 0] -> [27, 1, 64, 1, 8, 1, 0]"
      ],
      "metadata": {
        "id": "SEBKJjwvjH8N"
      }
    },
    {
      "cell_type": "code",
      "source": [
        "def transform(X):\n",
        "    #YOUR CODE\n",
        "    result = YOUR CODE\n",
        "    return result"
      ],
      "metadata": {
        "id": "sdAYGQphjOAW"
      },
      "execution_count": null,
      "outputs": []
    },
    {
      "cell_type": "code",
      "source": [
        "#test\n",
        "X = np.array([5, -2, 44, 8, 0, -2, -3, 1, 5, 3])\n",
        "\n",
        "assert np.allclose(transform(X), np.array([125, 1, 85184, 1, 0, 1, -27, 1, 125, 1]))"
      ],
      "metadata": {
        "id": "-DcCoQZ0jf7l"
      },
      "execution_count": null,
      "outputs": []
    },
    {
      "cell_type": "markdown",
      "source": [
        "## Задание 7.\n",
        "Напишите функцию, которая находит сумму четных элементов на главной диагонали квадратной матрицы (именно чётных элементов, а не элементов на чётных позициях!). Если чётных элементов нет, то вывести `0`. Используйте библиотеку `numpy`.\n",
        "\n"
      ],
      "metadata": {
        "id": "LLKUEcuLeeeR"
      }
    },
    {
      "cell_type": "code",
      "execution_count": null,
      "metadata": {
        "id": "lzJyNZE_Z4QH"
      },
      "outputs": [],
      "source": [
        "import numpy as np #не стирать!\n",
        "\n",
        "def diag_2k(a):\n",
        "    #param a: np.array[size, size]\n",
        "    #YOUR CODE\n",
        "\n",
        "    result = #YOUR CODE\n",
        "    return result"
      ]
    },
    {
      "cell_type": "code",
      "source": [
        "#test\n",
        "a = np.array([1, 3, 6,\n",
        "              2, 8,-2,\n",
        "              -2, 0, -2],\n",
        "             dtype=int).reshape(3,3)\n",
        "\n",
        "assert np.allclose(diag_2k(a), 6)"
      ],
      "metadata": {
        "id": "FNIXrMPnfRRI"
      },
      "execution_count": null,
      "outputs": []
    }
  ]
}