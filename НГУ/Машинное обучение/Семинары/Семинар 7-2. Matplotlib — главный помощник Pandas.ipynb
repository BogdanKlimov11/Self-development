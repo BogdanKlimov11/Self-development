{
  "nbformat": 4,
  "nbformat_minor": 0,
  "metadata": {
    "colab": {
      "provenance": []
    },
    "kernelspec": {
      "name": "python3",
      "display_name": "Python 3"
    },
    "language_info": {
      "name": "python"
    }
  },
  "cells": [
    {
      "cell_type": "markdown",
      "source": [
        "### О необоходимости использования графиков\n",
        "\n",
        "Для демонстрации методов машинного обучения часто используют графики. Это связано с их наглядностью.\n",
        "Посмотри, как оформлены данные о среднемесячной погоде в Москве в таблице и на графике:\n",
        "\n",
        "\n",
        "![](https://sun9-81.userapi.com/impf/TjbpIYTI6f8gfaCsBCgsyYIUjKd42Hb0wp_13Q/Q2el6Af7IL8.jpg?size=947x495&quality=96&sign=073a201a1e1a26751866a9eac76d5594&type=album)\n",
        "\n",
        "\n",
        "В таблице заключена текстовая информация, которую необходимо «читать», перемещаясь по строкам и столбцам.\n",
        "\n",
        "**Графики** — это визуальное представление данных, их можно проанализировать быстрее, чем таблицу. Если тебя попросят назвать самый жаркий месяц, то при помощи графика ты это сделаешь быстрее.\n",
        "Что если информации станет еще больше? Тогда мы изменим форму самого графика. На смену гистограмме, где у каждого значения был свой столбец, придёт точечная диаграмма. Это позволит охватить больше информации."
      ],
      "metadata": {
        "id": "wRa4wviR1nD7"
      }
    },
    {
      "cell_type": "code",
      "source": [
        "import pandas as pd\n",
        "\n",
        "df_rest = pd.read_csv('https://ai-academy.ru/upload/csv/Restaurant.csv')"
      ],
      "metadata": {
        "id": "cQClB9T11wWM"
      },
      "execution_count": null,
      "outputs": []
    },
    {
      "cell_type": "code",
      "source": [
        "df_rest.head()"
      ],
      "metadata": {
        "id": "gyPMOhRFCw-S",
        "colab": {
          "base_uri": "https://localhost:8080/",
          "height": 206
        },
        "outputId": "62c863f3-f430-45a1-809f-596de7de7cd5"
      },
      "execution_count": null,
      "outputs": [
        {
          "output_type": "execute_result",
          "data": {
            "text/plain": [
              "   total_bill   tip     sex vegan  day    time  size\n",
              "0       16.99  1.01  Female    No  Sun  Dinner     2\n",
              "1       10.34  1.66    Male    No  Sun  Dinner     3\n",
              "2       21.01  3.50    Male    No  Sun  Dinner     3\n",
              "3       23.68  3.31    Male    No  Sun  Dinner     2\n",
              "4       24.59  3.61  Female    No  Sun  Dinner     4"
            ],
            "text/html": [
              "\n",
              "  <div id=\"df-c3b79f07-4457-41f1-8bcd-e6e86e4849be\">\n",
              "    <div class=\"colab-df-container\">\n",
              "      <div>\n",
              "<style scoped>\n",
              "    .dataframe tbody tr th:only-of-type {\n",
              "        vertical-align: middle;\n",
              "    }\n",
              "\n",
              "    .dataframe tbody tr th {\n",
              "        vertical-align: top;\n",
              "    }\n",
              "\n",
              "    .dataframe thead th {\n",
              "        text-align: right;\n",
              "    }\n",
              "</style>\n",
              "<table border=\"1\" class=\"dataframe\">\n",
              "  <thead>\n",
              "    <tr style=\"text-align: right;\">\n",
              "      <th></th>\n",
              "      <th>total_bill</th>\n",
              "      <th>tip</th>\n",
              "      <th>sex</th>\n",
              "      <th>vegan</th>\n",
              "      <th>day</th>\n",
              "      <th>time</th>\n",
              "      <th>size</th>\n",
              "    </tr>\n",
              "  </thead>\n",
              "  <tbody>\n",
              "    <tr>\n",
              "      <th>0</th>\n",
              "      <td>16.99</td>\n",
              "      <td>1.01</td>\n",
              "      <td>Female</td>\n",
              "      <td>No</td>\n",
              "      <td>Sun</td>\n",
              "      <td>Dinner</td>\n",
              "      <td>2</td>\n",
              "    </tr>\n",
              "    <tr>\n",
              "      <th>1</th>\n",
              "      <td>10.34</td>\n",
              "      <td>1.66</td>\n",
              "      <td>Male</td>\n",
              "      <td>No</td>\n",
              "      <td>Sun</td>\n",
              "      <td>Dinner</td>\n",
              "      <td>3</td>\n",
              "    </tr>\n",
              "    <tr>\n",
              "      <th>2</th>\n",
              "      <td>21.01</td>\n",
              "      <td>3.50</td>\n",
              "      <td>Male</td>\n",
              "      <td>No</td>\n",
              "      <td>Sun</td>\n",
              "      <td>Dinner</td>\n",
              "      <td>3</td>\n",
              "    </tr>\n",
              "    <tr>\n",
              "      <th>3</th>\n",
              "      <td>23.68</td>\n",
              "      <td>3.31</td>\n",
              "      <td>Male</td>\n",
              "      <td>No</td>\n",
              "      <td>Sun</td>\n",
              "      <td>Dinner</td>\n",
              "      <td>2</td>\n",
              "    </tr>\n",
              "    <tr>\n",
              "      <th>4</th>\n",
              "      <td>24.59</td>\n",
              "      <td>3.61</td>\n",
              "      <td>Female</td>\n",
              "      <td>No</td>\n",
              "      <td>Sun</td>\n",
              "      <td>Dinner</td>\n",
              "      <td>4</td>\n",
              "    </tr>\n",
              "  </tbody>\n",
              "</table>\n",
              "</div>\n",
              "      <button class=\"colab-df-convert\" onclick=\"convertToInteractive('df-c3b79f07-4457-41f1-8bcd-e6e86e4849be')\"\n",
              "              title=\"Convert this dataframe to an interactive table.\"\n",
              "              style=\"display:none;\">\n",
              "        \n",
              "  <svg xmlns=\"http://www.w3.org/2000/svg\" height=\"24px\"viewBox=\"0 0 24 24\"\n",
              "       width=\"24px\">\n",
              "    <path d=\"M0 0h24v24H0V0z\" fill=\"none\"/>\n",
              "    <path d=\"M18.56 5.44l.94 2.06.94-2.06 2.06-.94-2.06-.94-.94-2.06-.94 2.06-2.06.94zm-11 1L8.5 8.5l.94-2.06 2.06-.94-2.06-.94L8.5 2.5l-.94 2.06-2.06.94zm10 10l.94 2.06.94-2.06 2.06-.94-2.06-.94-.94-2.06-.94 2.06-2.06.94z\"/><path d=\"M17.41 7.96l-1.37-1.37c-.4-.4-.92-.59-1.43-.59-.52 0-1.04.2-1.43.59L10.3 9.45l-7.72 7.72c-.78.78-.78 2.05 0 2.83L4 21.41c.39.39.9.59 1.41.59.51 0 1.02-.2 1.41-.59l7.78-7.78 2.81-2.81c.8-.78.8-2.07 0-2.86zM5.41 20L4 18.59l7.72-7.72 1.47 1.35L5.41 20z\"/>\n",
              "  </svg>\n",
              "      </button>\n",
              "      \n",
              "  <style>\n",
              "    .colab-df-container {\n",
              "      display:flex;\n",
              "      flex-wrap:wrap;\n",
              "      gap: 12px;\n",
              "    }\n",
              "\n",
              "    .colab-df-convert {\n",
              "      background-color: #E8F0FE;\n",
              "      border: none;\n",
              "      border-radius: 50%;\n",
              "      cursor: pointer;\n",
              "      display: none;\n",
              "      fill: #1967D2;\n",
              "      height: 32px;\n",
              "      padding: 0 0 0 0;\n",
              "      width: 32px;\n",
              "    }\n",
              "\n",
              "    .colab-df-convert:hover {\n",
              "      background-color: #E2EBFA;\n",
              "      box-shadow: 0px 1px 2px rgba(60, 64, 67, 0.3), 0px 1px 3px 1px rgba(60, 64, 67, 0.15);\n",
              "      fill: #174EA6;\n",
              "    }\n",
              "\n",
              "    [theme=dark] .colab-df-convert {\n",
              "      background-color: #3B4455;\n",
              "      fill: #D2E3FC;\n",
              "    }\n",
              "\n",
              "    [theme=dark] .colab-df-convert:hover {\n",
              "      background-color: #434B5C;\n",
              "      box-shadow: 0px 1px 3px 1px rgba(0, 0, 0, 0.15);\n",
              "      filter: drop-shadow(0px 1px 2px rgba(0, 0, 0, 0.3));\n",
              "      fill: #FFFFFF;\n",
              "    }\n",
              "  </style>\n",
              "\n",
              "      <script>\n",
              "        const buttonEl =\n",
              "          document.querySelector('#df-c3b79f07-4457-41f1-8bcd-e6e86e4849be button.colab-df-convert');\n",
              "        buttonEl.style.display =\n",
              "          google.colab.kernel.accessAllowed ? 'block' : 'none';\n",
              "\n",
              "        async function convertToInteractive(key) {\n",
              "          const element = document.querySelector('#df-c3b79f07-4457-41f1-8bcd-e6e86e4849be');\n",
              "          const dataTable =\n",
              "            await google.colab.kernel.invokeFunction('convertToInteractive',\n",
              "                                                     [key], {});\n",
              "          if (!dataTable) return;\n",
              "\n",
              "          const docLinkHtml = 'Like what you see? Visit the ' +\n",
              "            '<a target=\"_blank\" href=https://colab.research.google.com/notebooks/data_table.ipynb>data table notebook</a>'\n",
              "            + ' to learn more about interactive tables.';\n",
              "          element.innerHTML = '';\n",
              "          dataTable['output_type'] = 'display_data';\n",
              "          await google.colab.output.renderOutput(dataTable, element);\n",
              "          const docLink = document.createElement('div');\n",
              "          docLink.innerHTML = docLinkHtml;\n",
              "          element.appendChild(docLink);\n",
              "        }\n",
              "      </script>\n",
              "    </div>\n",
              "  </div>\n",
              "  "
            ]
          },
          "metadata": {},
          "execution_count": 2
        }
      ]
    },
    {
      "cell_type": "code",
      "source": [
        "df_rest.shape"
      ],
      "metadata": {
        "id": "_z50UeFd1mwe",
        "colab": {
          "base_uri": "https://localhost:8080/"
        },
        "outputId": "5c93ce86-7287-41ac-e224-2478ee0d3a9e"
      },
      "execution_count": null,
      "outputs": [
        {
          "output_type": "execute_result",
          "data": {
            "text/plain": [
              "(244, 7)"
            ]
          },
          "metadata": {},
          "execution_count": 3
        }
      ]
    },
    {
      "cell_type": "markdown",
      "source": [
        "Столбцы \"sex\",\t\"vegan\",\t\"day\",\ttime\" - являются категориалтными"
      ],
      "metadata": {
        "id": "p0z8850JDDGa"
      }
    },
    {
      "cell_type": "code",
      "source": [
        "df_rest.info()"
      ],
      "metadata": {
        "id": "nBC5MAQuC6A2",
        "colab": {
          "base_uri": "https://localhost:8080/"
        },
        "outputId": "d0db9ef5-2e71-4012-fc19-dfde395a58da"
      },
      "execution_count": null,
      "outputs": [
        {
          "output_type": "stream",
          "name": "stdout",
          "text": [
            "<class 'pandas.core.frame.DataFrame'>\n",
            "RangeIndex: 244 entries, 0 to 243\n",
            "Data columns (total 7 columns):\n",
            " #   Column      Non-Null Count  Dtype  \n",
            "---  ------      --------------  -----  \n",
            " 0   total_bill  244 non-null    float64\n",
            " 1   tip         244 non-null    float64\n",
            " 2   sex         244 non-null    object \n",
            " 3   vegan       244 non-null    object \n",
            " 4   day         244 non-null    object \n",
            " 5   time        244 non-null    object \n",
            " 6   size        244 non-null    int64  \n",
            "dtypes: float64(2), int64(1), object(4)\n",
            "memory usage: 13.5+ KB\n"
          ]
        }
      ]
    },
    {
      "cell_type": "markdown",
      "source": [],
      "metadata": {
        "id": "jJT2sGfxDtce"
      }
    },
    {
      "cell_type": "code",
      "source": [
        "import matplotlib.pyplot as plt\n",
        "\n",
        "%matplotlib inline"
      ],
      "metadata": {
        "id": "xz6krOcnC-nB"
      },
      "execution_count": null,
      "outputs": []
    },
    {
      "cell_type": "markdown",
      "source": [
        "**Гистограмма** — это диаграмма, которая группирует числовые данные в ячейки, отображая их в виде сегментированных столбцов. Они используются для отображения распределения набора данных: как часто значения попадают в диапазоны.\n",
        "\n",
        "  Гистограмма была впервые введена Карлом Пирсоном."
      ],
      "metadata": {
        "id": "zLh__VUlDuG2"
      }
    },
    {
      "cell_type": "code",
      "source": [
        "df_rest.total_bill.hist()"
      ],
      "metadata": {
        "id": "qPSS4KFDDbDy",
        "colab": {
          "base_uri": "https://localhost:8080/",
          "height": 283
        },
        "outputId": "32ec8c20-36ce-4e2f-b249-c299965a766e"
      },
      "execution_count": null,
      "outputs": [
        {
          "output_type": "execute_result",
          "data": {
            "text/plain": [
              "<matplotlib.axes._subplots.AxesSubplot at 0x7f46275bb190>"
            ]
          },
          "metadata": {},
          "execution_count": 6
        },
        {
          "output_type": "display_data",
          "data": {
            "text/plain": [
              "<Figure size 432x288 with 1 Axes>"
            ],
            "image/png": "[encoded data removed]"
          },
          "metadata": {
            "needs_background": "light"
          }
        }
      ]
    },
    {
      "cell_type": "code",
      "source": [
        "df_rest.total_bill.hist(bins = 20)"
      ],
      "metadata": {
        "id": "RgKJ0d1IDgSz",
        "colab": {
          "base_uri": "https://localhost:8080/",
          "height": 283
        },
        "outputId": "d44d52f1-0bb6-4fdd-aafb-cf2e5d02fb3e"
      },
      "execution_count": null,
      "outputs": [
        {
          "output_type": "execute_result",
          "data": {
            "text/plain": [
              "<matplotlib.axes._subplots.AxesSubplot at 0x7f4627528e90>"
            ]
          },
          "metadata": {},
          "execution_count": 7
        },
        {
          "output_type": "display_data",
          "data": {
            "text/plain": [
              "<Figure size 432x288 with 1 Axes>"
            ],
            "image/png": "[encoded data removed]"
          },
          "metadata": {
            "needs_background": "light"
          }
        }
      ]
    },
    {
      "cell_type": "markdown",
      "source": [
        "Конечно графики можно подписывать, менять параметры отображения и видоизменять их на свео усмотрение для их дальнешего использования в отчетах"
      ],
      "metadata": {
        "id": "uqVRfDrJGEuU"
      }
    },
    {
      "cell_type": "code",
      "source": [
        "ax = df_rest.tip.hist(bins = 20)\n",
        "\n",
        "ax.set_title('График распределение чаевых')\n",
        "ax.set_ylabel('Количество заказов')\n",
        "ax.set_xlabel('Сумма чаевых, USD')"
      ],
      "metadata": {
        "id": "lIjihWsqFFUS",
        "colab": {
          "base_uri": "https://localhost:8080/",
          "height": 313
        },
        "outputId": "459c4b30-b0db-48ff-97b3-28f8c2ec44f2"
      },
      "execution_count": null,
      "outputs": [
        {
          "output_type": "execute_result",
          "data": {
            "text/plain": [
              "Text(0.5, 0, 'Сумма чаевых, USD')"
            ]
          },
          "metadata": {},
          "execution_count": 8
        },
        {
          "output_type": "display_data",
          "data": {
            "text/plain": [
              "<Figure size 432x288 with 1 Axes>"
            ],
            "image/png": "[encoded data removed]"
          },
          "metadata": {
            "needs_background": "light"
          }
        }
      ]
    },
    {
      "cell_type": "markdown",
      "source": [
        "Графики поддерживают работу с легендой , что дает возможность строить сразу несколько столбцов на одной странице."
      ],
      "metadata": {
        "id": "-FNhUlk7I0W7"
      }
    },
    {
      "cell_type": "code",
      "source": [
        "tips=df_rest.pivot_table(values = ['total_bill','tip'],\n",
        "               index='day')\n",
        "\n",
        "fig = plt.figure()\n",
        "axes=fig.add_axes([0, 0, 1, 1])\n",
        "axes.bar(x = tips.index, height = tips['total_bill'],\n",
        "       width=0.4, align='edge', label = 'Средняя сумма чека' )\n",
        "axes.bar(x=tips.index, height = tips['tip'],\n",
        "       width=-0.4, align='edge', label = 'Средняя сумма чаевых')\n",
        "axes.set_title(\"Средняя сумма счёта Vs Cредняя сумма чаевых по дням недели\")\n",
        "axes.set_xlabel('Дни недели')\n",
        "axes.set_ylabel('Cyммa')\n",
        "\n",
        "axes.legend(loc = 1)"
      ],
      "metadata": {
        "id": "j8UcUNrQG0OX",
        "colab": {
          "base_uri": "https://localhost:8080/",
          "height": 384
        },
        "outputId": "855b9164-9418-4ae4-bb66-2213b2bafd84"
      },
      "execution_count": null,
      "outputs": [
        {
          "output_type": "execute_result",
          "data": {
            "text/plain": [
              "<matplotlib.legend.Legend at 0x7f4626fe4f50>"
            ]
          },
          "metadata": {},
          "execution_count": 9
        },
        {
          "output_type": "display_data",
          "data": {
            "text/plain": [
              "<Figure size 432x288 with 1 Axes>"
            ],
            "image/png": "[encoded data removed]"
          },
          "metadata": {
            "needs_background": "light"
          }
        }
      ]
    },
    {
      "cell_type": "markdown",
      "source": [
        "**Точечная диаграмма** — это тип математической диаграммы, использующей декартовы координаты для отображения значений двух переменных для набора данных.\n",
        "\n",
        "Данные отображаются в виде набора точек, каждая из которых имеет значение одной переменной, определяющей положение на горизонтальной оси, и значение другой переменной для вертикальной оси."
      ],
      "metadata": {
        "id": "ESGsMB25EPAA"
      }
    },
    {
      "cell_type": "code",
      "source": [
        "axes = df_rest.plot.scatter(\"total_bill\", \"tip\")"
      ],
      "metadata": {
        "id": "xJw4x5l3J6y9",
        "colab": {
          "base_uri": "https://localhost:8080/",
          "height": 280
        },
        "outputId": "8dbe1cda-3515-4f20-dc7b-fb8796230c4e"
      },
      "execution_count": null,
      "outputs": [
        {
          "output_type": "display_data",
          "data": {
            "text/plain": [
              "<Figure size 432x288 with 1 Axes>"
            ],
            "image/png": "[encoded data removed]"
          },
          "metadata": {
            "needs_background": "light"
          }
        }
      ]
    },
    {
      "cell_type": "code",
      "source": [
        "axes = df_rest.plot.scatter(\"total_bill\", \"tip\", c='DarkBlue')\n",
        "\n",
        "axes.set_title('Общая сумма счёта Vs Cумма чаевых')\n",
        "axes.set_xlabel('Сумма чека')\n",
        "axes.set_ylabel('Размер чаевых')"
      ],
      "metadata": {
        "id": "hjIug_1aDikS",
        "colab": {
          "base_uri": "https://localhost:8080/",
          "height": 313
        },
        "outputId": "9b3777b1-bb5c-4eb6-b30c-171051f07e67"
      },
      "execution_count": null,
      "outputs": [
        {
          "output_type": "execute_result",
          "data": {
            "text/plain": [
              "Text(0, 0.5, 'Размер чаевых')"
            ]
          },
          "metadata": {},
          "execution_count": 11
        },
        {
          "output_type": "display_data",
          "data": {
            "text/plain": [
              "<Figure size 432x288 with 1 Axes>"
            ],
            "image/png": "[encoded data removed]"
          },
          "metadata": {
            "needs_background": "light"
          }
        }
      ]
    },
    {
      "cell_type": "markdown",
      "source": [
        "### Другие формы графиков\n",
        "\n",
        "**Seaborn** библиотека визуализации вторая по полуряности после matplotlib. Расширяет функционал последней за счет новых типов графиков и дополнительных параметров.\n",
        "\n"
      ],
      "metadata": {
        "id": "XG0BtxShJZNr"
      }
    },
    {
      "cell_type": "code",
      "source": [
        "import seaborn as sns"
      ],
      "metadata": {
        "id": "aQpAux6qJixf"
      },
      "execution_count": null,
      "outputs": []
    },
    {
      "cell_type": "markdown",
      "source": [
        "Метод **jointplot()**, чем-то напоминает **scatter**, но помимо расспределния параметров он визуализирует на одном графике гистограммы обоих признаков и показывает связь между ними."
      ],
      "metadata": {
        "id": "DzpxJsQ-LFtW"
      }
    },
    {
      "cell_type": "code",
      "source": [
        "sns.jointplot(x = 'total_bill', y = 'tip', data = df_rest, kind = 'reg')"
      ],
      "metadata": {
        "id": "-H3w-C4AG_YZ",
        "colab": {
          "base_uri": "https://localhost:8080/",
          "height": 459
        },
        "outputId": "39ca4b8e-a78c-4dae-ded2-8ff1d81880bb"
      },
      "execution_count": null,
      "outputs": [
        {
          "output_type": "execute_result",
          "data": {
            "text/plain": [
              "<seaborn.axisgrid.JointGrid at 0x7f461b37a490>"
            ]
          },
          "metadata": {},
          "execution_count": 13
        },
        {
          "output_type": "display_data",
          "data": {
            "text/plain": [
              "<Figure size 432x432 with 3 Axes>"
            ],
            "image/png": "[encoded data removed]"
          },
          "metadata": {
            "needs_background": "light"
          }
        }
      ]
    },
    {
      "cell_type": "markdown",
      "source": [
        "Продолжим выдвигать необычные гипотезы, проследим за тем как мужчины и женшины оставляют чаевые."
      ],
      "metadata": {
        "id": "WmpwkOYGMVwt"
      }
    },
    {
      "cell_type": "markdown",
      "source": [
        "**countplot** - строит гистограмму частоты входа категориального признака в наборе данных."
      ],
      "metadata": {
        "id": "6KIaQzfCxd0b"
      }
    },
    {
      "cell_type": "code",
      "source": [
        "sns.countplot(x = \"sex\" , data  = df_rest)"
      ],
      "metadata": {
        "id": "4qLqhgvlJfX8",
        "colab": {
          "base_uri": "https://localhost:8080/",
          "height": 297
        },
        "outputId": "b9f47b3c-ab1c-475b-8946-2e99cae75485"
      },
      "execution_count": null,
      "outputs": [
        {
          "output_type": "execute_result",
          "data": {
            "text/plain": [
              "<matplotlib.axes._subplots.AxesSubplot at 0x7f461826f790>"
            ]
          },
          "metadata": {},
          "execution_count": 14
        },
        {
          "output_type": "display_data",
          "data": {
            "text/plain": [
              "<Figure size 432x288 with 1 Axes>"
            ],
            "image/png": "[encoded data removed]"
          },
          "metadata": {
            "needs_background": "light"
          }
        }
      ]
    },
    {
      "cell_type": "markdown",
      "source": [
        "**barplot** - представляет собой оценку тенденции для числовой переменной."
      ],
      "metadata": {
        "id": "m6d-zBCYPQtV"
      }
    },
    {
      "cell_type": "code",
      "source": [
        "sns.barplot(x = \"sex\" ,y =\"tip\" ,  data  = df_rest)"
      ],
      "metadata": {
        "id": "XhmydP2WMcBP",
        "colab": {
          "base_uri": "https://localhost:8080/",
          "height": 297
        },
        "outputId": "84b5c36d-e656-4d36-e350-717d4cbe5cdf"
      },
      "execution_count": null,
      "outputs": [
        {
          "output_type": "execute_result",
          "data": {
            "text/plain": [
              "<matplotlib.axes._subplots.AxesSubplot at 0x7f46181ddf90>"
            ]
          },
          "metadata": {},
          "execution_count": 15
        },
        {
          "output_type": "display_data",
          "data": {
            "text/plain": [
              "<Figure size 432x288 with 1 Axes>"
            ],
            "image/png": "[encoded data removed]"
          },
          "metadata": {
            "needs_background": "light"
          }
        }
      ]
    },
    {
      "cell_type": "markdown",
      "source": [
        "Рассмотрим как обьем чаевых зависит от дня недели"
      ],
      "metadata": {
        "id": "GmlDiwxBMqB2"
      }
    },
    {
      "cell_type": "code",
      "source": [
        "sns.countplot(x = \"day\" , data  = df_rest)"
      ],
      "metadata": {
        "id": "iHqEuTWVMhVU",
        "colab": {
          "base_uri": "https://localhost:8080/",
          "height": 297
        },
        "outputId": "6eaae121-b7c0-44ab-81c2-b49305c9c577"
      },
      "execution_count": null,
      "outputs": [
        {
          "output_type": "execute_result",
          "data": {
            "text/plain": [
              "<matplotlib.axes._subplots.AxesSubplot at 0x7f4618147ad0>"
            ]
          },
          "metadata": {},
          "execution_count": 16
        },
        {
          "output_type": "display_data",
          "data": {
            "text/plain": [
              "<Figure size 432x288 with 1 Axes>"
            ],
            "image/png": "[encoded data removed]"
          },
          "metadata": {
            "needs_background": "light"
          }
        }
      ]
    },
    {
      "cell_type": "code",
      "source": [
        "sns.barplot(x = \"day\" ,y =\"tip\" , data  = df_rest)"
      ],
      "metadata": {
        "id": "O-MlYxJyMsM1",
        "colab": {
          "base_uri": "https://localhost:8080/",
          "height": 297
        },
        "outputId": "3d707a14-bb3f-4d8d-f8ef-2b307f12a7e3"
      },
      "execution_count": null,
      "outputs": [
        {
          "output_type": "execute_result",
          "data": {
            "text/plain": [
              "<matplotlib.axes._subplots.AxesSubplot at 0x7f46181ee350>"
            ]
          },
          "metadata": {},
          "execution_count": 17
        },
        {
          "output_type": "display_data",
          "data": {
            "text/plain": [
              "<Figure size 432x288 with 1 Axes>"
            ],
            "image/png": "[encoded data removed]"
          },
          "metadata": {
            "needs_background": "light"
          }
        }
      ]
    },
    {
      "cell_type": "code",
      "source": [],
      "metadata": {
        "id": "sLO6fgTc8TGJ"
      },
      "execution_count": null,
      "outputs": []
    }
  ]
}