{
  "nbformat": 4,
  "nbformat_minor": 0,
  "metadata": {
    "colab": {
      "name": "5.2.ipynb",
      "provenance": []
    },
    "kernelspec": {
      "name": "python3",
      "display_name": "Python 3"
    },
    "language_info": {
      "name": "python"
    }
  },
  "cells": [
    {
      "cell_type": "code",
      "execution_count": null,
      "metadata": {
        "id": "cAJkjZFi6Id7"
      },
      "outputs": [],
      "source": [
        "def building_piglet():\n",
        "    piglet = \"Haф-Haф\"\n"
      ]
    },
    {
      "cell_type": "code",
      "source": [
        "print(piglet)"
      ],
      "metadata": {
        "colab": {
          "base_uri": "https://localhost:8080/",
          "height": 165
        },
        "id": "rt_bL8Xw7Pjm",
        "outputId": "80ac9f3c-89bd-4b55-8fdc-9b1d7454b5ef"
      },
      "execution_count": null,
      "outputs": [
        {
          "output_type": "error",
          "ename": "NameError",
          "evalue": "ignored",
          "traceback": [
            "\u001b[0;31m---------------------------------------------------------------------------\u001b[0m",
            "\u001b[0;31mNameError\u001b[0m                                 Traceback (most recent call last)",
            "\u001b[0;32m<ipython-input-2-7b0d22ddba74>\u001b[0m in \u001b[0;36m<module>\u001b[0;34m()\u001b[0m\n\u001b[0;32m----> 1\u001b[0;31m \u001b[0mprint\u001b[0m\u001b[0;34m(\u001b[0m\u001b[0mpiglet\u001b[0m\u001b[0;34m)\u001b[0m\u001b[0;34m\u001b[0m\u001b[0;34m\u001b[0m\u001b[0m\n\u001b[0m",
            "\u001b[0;31mNameError\u001b[0m: name 'piglet' is not defined"
          ]
        }
      ]
    },
    {
      "cell_type": "code",
      "source": [
        "piglet_2= \"Ниф-ниф\""
      ],
      "metadata": {
        "id": "MkbFSdQF7Prx"
      },
      "execution_count": null,
      "outputs": []
    },
    {
      "cell_type": "code",
      "source": [
        "def building_piglet():\n",
        "    piglet = \"Hap-Hap\"\n",
        "    print(piglet_2)"
      ],
      "metadata": {
        "id": "KklzpUeG7PuK"
      },
      "execution_count": null,
      "outputs": []
    },
    {
      "cell_type": "code",
      "source": [
        "building_piglet()"
      ],
      "metadata": {
        "colab": {
          "base_uri": "https://localhost:8080/"
        },
        "id": "2wtdAY7R7PwD",
        "outputId": "4e232b9a-e55a-4e10-ba3a-f7ed5e7d894b"
      },
      "execution_count": null,
      "outputs": [
        {
          "output_type": "stream",
          "name": "stdout",
          "text": [
            "Ниф-ниф\n"
          ]
        }
      ]
    },
    {
      "cell_type": "markdown",
      "source": [
        "## Схожие перменные:"
      ],
      "metadata": {
        "id": "nEWld1Yv_fL5"
      }
    },
    {
      "cell_type": "code",
      "source": [
        "def print_number():\n",
        "\n",
        "  number = 15\n",
        "  print(number)\n"
      ],
      "metadata": {
        "id": "aC64AMrx96om"
      },
      "execution_count": null,
      "outputs": []
    },
    {
      "cell_type": "code",
      "source": [
        "number = -3\n",
        "\n",
        "print_number()\n",
        "print(number)\n",
        "\n"
      ],
      "metadata": {
        "colab": {
          "base_uri": "https://localhost:8080/"
        },
        "id": "9LT-6c7y_ePv",
        "outputId": "b25eea00-87fb-4321-b6b3-695c7fa42687"
      },
      "execution_count": null,
      "outputs": [
        {
          "output_type": "stream",
          "name": "stdout",
          "text": [
            "15\n",
            "-3\n"
          ]
        }
      ]
    },
    {
      "cell_type": "markdown",
      "source": [
        "## Ключевое слово **global**"
      ],
      "metadata": {
        "id": "Tr3eTZwlBJWG"
      }
    },
    {
      "cell_type": "code",
      "source": [
        "piglet_2 = \"Ниф-ниф\"\n",
        "\n",
        "def building_piglet():\n",
        "      piglet_2 = \"Haф-Haф\"\n",
        "\n",
        "      print(piglet_2)"
      ],
      "metadata": {
        "id": "Fy_isbL7_eSX"
      },
      "execution_count": null,
      "outputs": []
    },
    {
      "cell_type": "code",
      "source": [
        "building_piglet()\n",
        "\n",
        "print(piglet_2)"
      ],
      "metadata": {
        "colab": {
          "base_uri": "https://localhost:8080/"
        },
        "id": "yBaaT3Ec_eUt",
        "outputId": "c86adc66-a75e-4eae-fcaa-7b0ee1c3a4f1"
      },
      "execution_count": null,
      "outputs": [
        {
          "output_type": "stream",
          "name": "stdout",
          "text": [
            "Haф-Haф\n",
            "Ниф-ниф\n"
          ]
        }
      ]
    },
    {
      "cell_type": "code",
      "source": [
        ""
      ],
      "metadata": {
        "id": "8jer49MVBXlZ"
      },
      "execution_count": null,
      "outputs": []
    },
    {
      "cell_type": "code",
      "source": [
        "piglet_2 = \"Ниф-ниф\"\n",
        "\n",
        "def building_piglet():\n",
        "      global piglet_2 \n",
        "      piglet_2 = \"Haф-Haф\"\n",
        "\n",
        "      print(piglet_2)"
      ],
      "metadata": {
        "id": "1vuMg63FCXO3"
      },
      "execution_count": null,
      "outputs": []
    },
    {
      "cell_type": "code",
      "source": [
        "building_piglet()\n",
        "\n",
        "print(piglet_2)"
      ],
      "metadata": {
        "colab": {
          "base_uri": "https://localhost:8080/"
        },
        "id": "2toQBHfMCXRE",
        "outputId": "5ab343f8-af06-4863-cbb1-4e9dd080db19"
      },
      "execution_count": null,
      "outputs": [
        {
          "output_type": "stream",
          "name": "stdout",
          "text": [
            "Haф-Haф\n",
            "Haф-Haф\n"
          ]
        }
      ]
    },
    {
      "cell_type": "code",
      "source": [
        ""
      ],
      "metadata": {
        "id": "5q-h7T1WCXTT"
      },
      "execution_count": null,
      "outputs": []
    }
  ]
}