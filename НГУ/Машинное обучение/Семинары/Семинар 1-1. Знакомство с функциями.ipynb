{
  "nbformat": 4,
  "nbformat_minor": 0,
  "metadata": {
    "colab": {
      "name": "1.2 Знакомство с функциями.ipynb",
      "provenance": [],
      "collapsed_sections": []
    },
    "kernelspec": {
      "name": "python3",
      "display_name": "Python 3"
    },
    "language_info": {
      "name": "python"
    }
  },
  "cells": [
    {
      "cell_type": "markdown",
      "source": [
        "## Функции языка"
      ],
      "metadata": {
        "id": "MPk5Ajc3cn7O"
      }
    },
    {
      "cell_type": "markdown",
      "source": [
        "![](https://sun9-west.userapi.com/sun9-9/s/v1/ig2/CCzQGQqCwyBgJOr7frs7l3-wRdevWe_a47K74FcnLbh19WVZ8lPj5fZt9m2UbXvcy98-OitQDYvpEasxzWuGiSb7.jpg?size=860x862&quality=96&type=album)"
      ],
      "metadata": {
        "id": "UJ7kKDukcsbV"
      }
    },
    {
      "cell_type": "markdown",
      "source": [
        "Выделяют два вида функций, \n",
        "* **встроенные** в питон  - их можно использовать сразу как после того как ты впервые его скачал\n",
        "* **рукотворные**  - это те функцию которые создал ты сам, под свои задачи. Мы научимся их создавать во втором разделе, а в третьем будем использовать функции других программистов из интернета.\n"
      ],
      "metadata": {
        "id": "3bFYI3qUc-2n"
      }
    },
    {
      "cell_type": "markdown",
      "source": [
        "## Наша первая функция"
      ],
      "metadata": {
        "id": "OdNgcaGldmPP"
      }
    },
    {
      "cell_type": "code",
      "source": [
        "print()"
      ],
      "metadata": {
        "colab": {
          "base_uri": "https://localhost:8080/"
        },
        "id": "QqxzpMmTcsK7",
        "outputId": "110e28a3-5c94-4432-cb3c-f8ae2f415db5"
      },
      "execution_count": null,
      "outputs": [
        {
          "output_type": "stream",
          "name": "stdout",
          "text": [
            "\n"
          ]
        }
      ]
    },
    {
      "cell_type": "markdown",
      "source": [
        "Рассмотрим свою первую функцию. Это **print()**, как видишь она состоит из:\n",
        "* ключевого слова print \n",
        "* и как бы это не было неожиданно - скобок. \n"
      ],
      "metadata": {
        "id": "4GqPvFoDdrOx"
      }
    },
    {
      "cell_type": "code",
      "source": [
        "print(\"Hello, World!\")"
      ],
      "metadata": {
        "colab": {
          "base_uri": "https://localhost:8080/"
        },
        "id": "QmqN1c-UdqlN",
        "outputId": "9f8f3692-d541-44ef-acde-068a68c42df6"
      },
      "execution_count": null,
      "outputs": [
        {
          "output_type": "stream",
          "name": "stdout",
          "text": [
            "Hello, World!\n"
          ]
        }
      ]
    },
    {
      "cell_type": "code",
      "execution_count": null,
      "metadata": {
        "colab": {
          "base_uri": "https://localhost:8080/"
        },
        "id": "Si_0_eurci6b",
        "outputId": "dfcf26a9-ec6b-48a2-b2d3-f6b4a9507649"
      },
      "outputs": [
        {
          "output_type": "stream",
          "name": "stdout",
          "text": [
            "Скажи-ка, дядя, ведь недаром Москва, спаленная пожаром, Французу отдана?\n"
          ]
        }
      ],
      "source": [
        "print(\"Скажи-ка, дядя, ведь недаром Москва, спаленная пожаром, Французу отдана?\")"
      ]
    },
    {
      "cell_type": "code",
      "source": [
        "print(Скажи-ка, дядя, ведь недаром Москва, спаленная пожаром, Французу отдана?)"
      ],
      "metadata": {
        "colab": {
          "base_uri": "https://localhost:8080/",
          "height": 133
        },
        "id": "zZvpsfC-cnZt",
        "outputId": "db39c9c5-9b8a-4cac-822e-d0742bbb9c7d"
      },
      "execution_count": null,
      "outputs": [
        {
          "output_type": "error",
          "ename": "SyntaxError",
          "evalue": "ignored",
          "traceback": [
            "\u001b[0;36m  File \u001b[0;32m\"<ipython-input-4-cf97da4ca32c>\"\u001b[0;36m, line \u001b[0;32m1\u001b[0m\n\u001b[0;31m    print(Скажи-ка, дядя, ведь недаром Москва, спаленная пожаром, Французу отдана?)\u001b[0m\n\u001b[0m                                     ^\u001b[0m\n\u001b[0;31mSyntaxError\u001b[0m\u001b[0;31m:\u001b[0m invalid syntax\n"
          ]
        }
      ]
    }
  ]
}