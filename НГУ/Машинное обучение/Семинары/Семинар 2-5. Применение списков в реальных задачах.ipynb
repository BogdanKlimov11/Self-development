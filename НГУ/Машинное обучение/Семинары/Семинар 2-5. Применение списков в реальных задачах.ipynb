{
  "nbformat": 4,
  "nbformat_minor": 0,
  "metadata": {
    "colab": {
      "provenance": []
    },
    "kernelspec": {
      "name": "python3",
      "display_name": "Python 3"
    },
    "language_info": {
      "name": "python"
    }
  },
  "cells": [
    {
      "cell_type": "markdown",
      "source": [
        "### Массив и циклы"
      ],
      "metadata": {
        "id": "RiyCOsyYAUDN"
      }
    },
    {
      "cell_type": "markdown",
      "source": [],
      "metadata": {
        "id": "kBLRn46Plq5S"
      }
    },
    {
      "cell_type": "code",
      "source": [
        "numbers = [1, 2, 3, 4, 5, 6, 7, 8, 9]"
      ],
      "metadata": {
        "id": "UP0PXmAbAqVs"
      },
      "execution_count": null,
      "outputs": []
    },
    {
      "cell_type": "code",
      "source": [
        "numbers[1]"
      ],
      "metadata": {
        "id": "pJspBCFO_7tb",
        "colab": {
          "base_uri": "https://localhost:8080/"
        },
        "outputId": "b672517f-5d2c-462f-e721-aae4fd6c4c5d"
      },
      "execution_count": null,
      "outputs": [
        {
          "output_type": "execute_result",
          "data": {
            "text/plain": [
              "2"
            ]
          },
          "metadata": {},
          "execution_count": 9
        }
      ]
    },
    {
      "cell_type": "code",
      "source": [
        "for i in numbers:\n",
        "  print(i)"
      ],
      "metadata": {
        "colab": {
          "base_uri": "https://localhost:8080/"
        },
        "id": "qnVwVA2L_7vv",
        "outputId": "85b60cee-d13a-444e-f824-c287ecaeca21"
      },
      "execution_count": null,
      "outputs": [
        {
          "output_type": "stream",
          "name": "stdout",
          "text": [
            "1\n",
            "2\n",
            "3\n",
            "4\n",
            "5\n",
            "6\n",
            "7\n",
            "8\n",
            "9\n"
          ]
        }
      ]
    },
    {
      "cell_type": "code",
      "source": [
        "word = \"Привет мир!\"\n",
        "\n",
        "for letter in word:\n",
        "  print(letter)"
      ],
      "metadata": {
        "colab": {
          "base_uri": "https://localhost:8080/"
        },
        "id": "LI8dug-fEsK1",
        "outputId": "6deca19e-09ef-44e2-d930-5a57e5d6a15b"
      },
      "execution_count": null,
      "outputs": [
        {
          "output_type": "stream",
          "name": "stdout",
          "text": [
            "П\n",
            "р\n",
            "и\n",
            "в\n",
            "е\n",
            "т\n",
            " \n",
            "м\n",
            "и\n",
            "р\n",
            "!\n"
          ]
        }
      ]
    },
    {
      "cell_type": "markdown",
      "source": [
        "Операции над элементами массива"
      ],
      "metadata": {
        "id": "OKuTyvBSFQiJ"
      }
    },
    {
      "cell_type": "code",
      "source": [
        "mass_sum = 0\n",
        "\n",
        "for i in numbers:\n",
        "  mass_sum += i\n",
        "\n",
        "print(\"Cумма значений массива равна:\", mass_sum)"
      ],
      "metadata": {
        "colab": {
          "base_uri": "https://localhost:8080/"
        },
        "id": "U9sVv9FhD_gN",
        "outputId": "a159e6d3-5775-40dc-8b7c-c5d6e1576df6"
      },
      "execution_count": null,
      "outputs": [
        {
          "output_type": "stream",
          "name": "stdout",
          "text": [
            "Cумма значений массива равна: 45\n"
          ]
        }
      ]
    },
    {
      "cell_type": "markdown",
      "source": [
        "Прибавим к каждому элементу число"
      ],
      "metadata": {
        "id": "leuX3-wvFzx8"
      }
    },
    {
      "cell_type": "code",
      "source": [
        "\n",
        "evaluations = [4, 2, 3, 4, 3, 3, 3, 2, 3]\n",
        "\n",
        "for i in evaluations:\n",
        "   i = i + 1\n",
        "\n",
        "print(\"Новый массив оценок:\", evaluations)"
      ],
      "metadata": {
        "colab": {
          "base_uri": "https://localhost:8080/"
        },
        "id": "sAw52drJFUZ0",
        "outputId": "d9e1c11b-7404-4f4c-ca03-68ab575094cc"
      },
      "execution_count": null,
      "outputs": [
        {
          "output_type": "stream",
          "name": "stdout",
          "text": [
            "Новый массив оценок: [4, 2, 3, 4, 3, 3, 3, 2, 3]\n"
          ]
        }
      ]
    },
    {
      "cell_type": "code",
      "source": [
        "\n",
        "\n",
        "evaluations = [4, 2, 3, 4, 3, 3, 3, 2, 3]\n",
        "\n",
        "mass_len = len(evaluations)\n",
        "\n",
        "for i in range(mass_len):\n",
        "  print(i)"
      ],
      "metadata": {
        "colab": {
          "base_uri": "https://localhost:8080/"
        },
        "id": "AK-YH_h6JBq1",
        "outputId": "0dc340e0-ade1-4da3-9416-2c2569f148be"
      },
      "execution_count": null,
      "outputs": [
        {
          "output_type": "stream",
          "name": "stdout",
          "text": [
            "0\n",
            "1\n",
            "2\n",
            "3\n",
            "4\n",
            "5\n",
            "6\n",
            "7\n",
            "8\n"
          ]
        }
      ]
    },
    {
      "cell_type": "markdown",
      "source": [
        "Получим каждый элемент массива"
      ],
      "metadata": {
        "id": "8PokWdDeLbhj"
      }
    },
    {
      "cell_type": "code",
      "execution_count": null,
      "metadata": {
        "colab": {
          "base_uri": "https://localhost:8080/"
        },
        "id": "eWcfbgB8sbC2",
        "outputId": "08cf4134-6d60-445b-bb9a-1174e1b2619e"
      },
      "outputs": [
        {
          "output_type": "stream",
          "name": "stdout",
          "text": [
            "4\n",
            "2\n",
            "3\n",
            "4\n",
            "3\n",
            "3\n",
            "3\n",
            "2\n",
            "3\n"
          ]
        }
      ],
      "source": [
        "evaluations = [4, 2, 3, 4, 3, 3, 3, 2, 3]\n",
        "\n",
        "for i in range(len(evaluations)):\n",
        "  print(evaluations[i])"
      ]
    },
    {
      "cell_type": "code",
      "source": [
        "evaluations = [4, 2, 3, 4, 3, 3, 3, 2, 3]\n",
        "\n",
        "for i in range(len(evaluations)):\n",
        "  evaluations[i] += 1\n",
        "\n",
        "print(\"Новый массив оценок:\", evaluations)"
      ],
      "metadata": {
        "colab": {
          "base_uri": "https://localhost:8080/"
        },
        "id": "UmpdRFBuLea_",
        "outputId": "30816208-6917-49e9-c396-c4a676f658d6"
      },
      "execution_count": null,
      "outputs": [
        {
          "output_type": "stream",
          "name": "stdout",
          "text": [
            "Новый массив оценок: [5, 3, 4, 5, 4, 4, 4, 3, 4]\n"
          ]
        }
      ]
    },
    {
      "cell_type": "markdown",
      "source": [
        "### In, len, sum, all, any\n",
        "\n",
        "Общие методы для разных контейнеров, рассмотрим их на примере списков\n"
      ],
      "metadata": {
        "id": "ZI59YMwQI3uZ"
      }
    },
    {
      "cell_type": "markdown",
      "source": [
        "оператор вхождения **in**"
      ],
      "metadata": {
        "id": "wnexc7DuM0pb"
      }
    },
    {
      "cell_type": "code",
      "source": [
        "evaluations_10b = [4, 2, 3, 4, 3, 3, 3, 2, 3]\n",
        "evaluations_7a = [4, 4, 3, 4, 3, 3, 3, 3, 3]"
      ],
      "metadata": {
        "id": "1BVQOF6hMRhB"
      },
      "execution_count": null,
      "outputs": []
    },
    {
      "cell_type": "code",
      "source": [
        "2 in evaluations_10b # наличие двойки за тест у класса"
      ],
      "metadata": {
        "colab": {
          "base_uri": "https://localhost:8080/"
        },
        "id": "rjUlZ5zVI1oP",
        "outputId": "c958f9ef-366d-452b-a256-26f9fb3d12be"
      },
      "execution_count": null,
      "outputs": [
        {
          "output_type": "execute_result",
          "data": {
            "text/plain": [
              "True"
            ]
          },
          "metadata": {},
          "execution_count": 20
        }
      ]
    },
    {
      "cell_type": "code",
      "source": [
        "n = 64\n",
        "c = []\n",
        "for j in range (1, n+1):\n",
        "  if j**3 <= n:\n",
        "    if j**3 in c:\n",
        "     c.append(j**3)\n",
        "print(c)"
      ],
      "metadata": {
        "colab": {
          "base_uri": "https://localhost:8080/"
        },
        "id": "DHxWmW6Ybgf-",
        "outputId": "4dc45a1a-8e52-4a77-aab4-146afdefc1df"
      },
      "execution_count": null,
      "outputs": [
        {
          "output_type": "stream",
          "name": "stdout",
          "text": [
            "[]\n"
          ]
        }
      ]
    },
    {
      "cell_type": "code",
      "source": [
        "j**3 in c"
      ],
      "metadata": {
        "colab": {
          "base_uri": "https://localhost:8080/"
        },
        "id": "ZOR7_Wfqbzdc",
        "outputId": "6c0a8d12-c3c3-422d-f23b-bf9c9639e845"
      },
      "execution_count": null,
      "outputs": [
        {
          "output_type": "execute_result",
          "data": {
            "text/plain": [
              "False"
            ]
          },
          "metadata": {},
          "execution_count": 22
        }
      ]
    },
    {
      "cell_type": "code",
      "source": [
        "\"2\" in evaluations_7a"
      ],
      "metadata": {
        "colab": {
          "base_uri": "https://localhost:8080/"
        },
        "id": "cFlJNb7EMfka",
        "outputId": "420bc5aa-a0b1-4757-d0bf-c97a78a4d4b2"
      },
      "execution_count": null,
      "outputs": [
        {
          "output_type": "execute_result",
          "data": {
            "text/plain": [
              "False"
            ]
          },
          "metadata": {},
          "execution_count": 23
        }
      ]
    },
    {
      "cell_type": "markdown",
      "source": [
        "Длина массива"
      ],
      "metadata": {
        "id": "jUa-m0oYM3YW"
      }
    },
    {
      "cell_type": "code",
      "source": [
        "len(evaluations_10b)"
      ],
      "metadata": {
        "colab": {
          "base_uri": "https://localhost:8080/"
        },
        "id": "L2uMzfQrJBWH",
        "outputId": "1260a90d-7c93-49b9-965c-4652fe64c3dd"
      },
      "execution_count": null,
      "outputs": [
        {
          "output_type": "execute_result",
          "data": {
            "text/plain": [
              "9"
            ]
          },
          "metadata": {},
          "execution_count": 24
        }
      ]
    },
    {
      "cell_type": "markdown",
      "source": [
        "Сумма элементов"
      ],
      "metadata": {
        "id": "Ydf4y4AeeXLM"
      }
    },
    {
      "cell_type": "code",
      "source": [
        "sum([1, 2, 3])"
      ],
      "metadata": {
        "colab": {
          "base_uri": "https://localhost:8080/"
        },
        "id": "sNhCfsJZXZVB",
        "outputId": "085cf2a3-a5d2-4899-bc9c-17e6a055d83e"
      },
      "execution_count": null,
      "outputs": [
        {
          "output_type": "execute_result",
          "data": {
            "text/plain": [
              "6"
            ]
          },
          "metadata": {},
          "execution_count": 25
        }
      ]
    },
    {
      "cell_type": "code",
      "source": [
        "sum([1, 2, \"3\"])"
      ],
      "metadata": {
        "colab": {
          "base_uri": "https://localhost:8080/",
          "height": 179
        },
        "id": "LJSCOVGteavB",
        "outputId": "8eb249af-faa6-4385-8947-ca60c7c39f7d"
      },
      "execution_count": null,
      "outputs": [
        {
          "output_type": "error",
          "ename": "TypeError",
          "evalue": "ignored",
          "traceback": [
            "\u001b[0;31m---------------------------------------------------------------------------\u001b[0m",
            "\u001b[0;31mTypeError\u001b[0m                                 Traceback (most recent call last)",
            "\u001b[0;32m<ipython-input-26-8081db7ab660>\u001b[0m in \u001b[0;36m<cell line: 1>\u001b[0;34m()\u001b[0m\n\u001b[0;32m----> 1\u001b[0;31m \u001b[0msum\u001b[0m\u001b[0;34m(\u001b[0m\u001b[0;34m[\u001b[0m\u001b[0;36m1\u001b[0m\u001b[0;34m,\u001b[0m \u001b[0;36m2\u001b[0m\u001b[0;34m,\u001b[0m \u001b[0;34m\"3\"\u001b[0m\u001b[0;34m]\u001b[0m\u001b[0;34m)\u001b[0m\u001b[0;34m\u001b[0m\u001b[0;34m\u001b[0m\u001b[0m\n\u001b[0m",
            "\u001b[0;31mTypeError\u001b[0m: unsupported operand type(s) for +: 'int' and 'str'"
          ]
        }
      ]
    },
    {
      "cell_type": "markdown",
      "source": [
        "функции all(x) и any(x)\n",
        "\n",
        "Функция all возвращает логическое значение True, если все элементы последовательности равны True (или последовательность пуста) и False в противном случае.\n",
        "\n",
        "Напоминание о приведении типов: к значению True приводятся все отличные от нуля числа и любые непустые последовательности, к значению False приводится число нуль и все пустые последовательности."
      ],
      "metadata": {
        "id": "qHIIB0PoXjSu"
      }
    },
    {
      "cell_type": "code",
      "source": [
        "all([True, True, True])"
      ],
      "metadata": {
        "colab": {
          "base_uri": "https://localhost:8080/"
        },
        "id": "NLNYx043ej7g",
        "outputId": "e123ec84-e6c7-4307-9d6b-68d58a27cf83"
      },
      "execution_count": null,
      "outputs": [
        {
          "output_type": "execute_result",
          "data": {
            "text/plain": [
              "True"
            ]
          },
          "metadata": {},
          "execution_count": 27
        }
      ]
    },
    {
      "cell_type": "code",
      "source": [
        "all([True, True, True])"
      ],
      "metadata": {
        "colab": {
          "base_uri": "https://localhost:8080/"
        },
        "id": "sEHVYw3BXa49",
        "outputId": "ff0dd705-6f39-4411-8aa5-ebb400791deb"
      },
      "execution_count": null,
      "outputs": [
        {
          "output_type": "execute_result",
          "data": {
            "text/plain": [
              "True"
            ]
          },
          "metadata": {},
          "execution_count": 28
        }
      ]
    },
    {
      "cell_type": "code",
      "source": [
        "all([1, 0, 1])"
      ],
      "metadata": {
        "colab": {
          "base_uri": "https://localhost:8080/"
        },
        "id": "5Cko4t7TXeJS",
        "outputId": "bfd85871-4f8e-472e-95ad-cd4c08d91759"
      },
      "execution_count": null,
      "outputs": [
        {
          "output_type": "execute_result",
          "data": {
            "text/plain": [
              "False"
            ]
          },
          "metadata": {},
          "execution_count": 5
        }
      ]
    },
    {
      "cell_type": "markdown",
      "source": [
        "Функция any возвращает логическое значение True, если хотя бы один элемент непустой последовательности\n",
        "равен True. В противном случае, а также если последовательность пуста, возвращает False."
      ],
      "metadata": {
        "id": "wlxVqXCOXufb"
      }
    },
    {
      "cell_type": "code",
      "source": [
        "any([0, 0, 0])"
      ],
      "metadata": {
        "colab": {
          "base_uri": "https://localhost:8080/"
        },
        "id": "4uD7mmlUXfVu",
        "outputId": "0d7d1991-876f-4551-c864-31d177782017"
      },
      "execution_count": null,
      "outputs": [
        {
          "output_type": "execute_result",
          "data": {
            "text/plain": [
              "False"
            ]
          },
          "metadata": {},
          "execution_count": 7
        }
      ]
    },
    {
      "cell_type": "code",
      "source": [
        "any([False, False, False])"
      ],
      "metadata": {
        "colab": {
          "base_uri": "https://localhost:8080/"
        },
        "id": "W1fljNDPXzll",
        "outputId": "ea0dae25-95c3-4432-9971-1e90bfceb4bd"
      },
      "execution_count": null,
      "outputs": [
        {
          "output_type": "execute_result",
          "data": {
            "text/plain": [
              "False"
            ]
          },
          "metadata": {},
          "execution_count": 31
        }
      ]
    },
    {
      "cell_type": "markdown",
      "source": [
        "### Слайсинг (срезы)"
      ],
      "metadata": {
        "id": "pMIGJWn-JKEq"
      }
    },
    {
      "cell_type": "markdown",
      "source": [
        "\n",
        "В Python имеется удобное средство получения частей упорядоченных последовательностей, в частности строк: слайсы (они же срезы или сечения. Синтаксис операции:\n",
        "\n",
        "$$s[n: m: k]$$\n",
        "\n",
        "Где $s$ - имя переменной строкового типа, $n, m, k$ выражения целого типа ($k \\neq 0$)."
      ],
      "metadata": {
        "id": "qQsg9fI9GFCu"
      }
    },
    {
      "cell_type": "markdown",
      "source": [
        "\n",
        "Значение указанного выражения составляется из символов с индексами равными $x = n +i * k$, где $0 \\leq i \\leq \\frac{m-n}{k}$, причем в том же порядке, что и в строке $s$. Для простоты запоминания можно интерпретировать слайс так:\n",
        "\n",
        "С какого индекса n (включая), по какой индекс m (не включая), с каким шагом k.\n",
        "\n",
        "Если внутри квадратных скобок стоит одно двоеточие, то считается, что это двоеточие между первым и вторым\n",
        "параметрами (n и m). В этом случае сечение строки подпоследовательность исходной строки начиная с символа с индексом n и заканчивая символом с индексом m-1.\n",
        "* Если не указан первый параметр (начало подстроки), то его значение полагается равным 0\n",
        "* Если не указан второй параметр (конец подстроки), то он полагается равным len(s)\n",
        "* Если не указан третий параметр (шаг), то он полагается равным 1."
      ],
      "metadata": {
        "id": "fz1fZPncGIFg"
      }
    },
    {
      "cell_type": "code",
      "source": [
        "c = [1, 2, 3, 4, 5, 6, 7, 8, 9]"
      ],
      "metadata": {
        "id": "Zy30QSRge3tl"
      },
      "execution_count": null,
      "outputs": []
    },
    {
      "cell_type": "code",
      "source": [
        "# с первого включительно по 4й не включя индекс\n",
        "c[1:4]"
      ],
      "metadata": {
        "colab": {
          "base_uri": "https://localhost:8080/"
        },
        "id": "pOWTbLnUJQvF",
        "outputId": "24b9d7cf-d66c-45ab-a43c-bf2104032d6d"
      },
      "execution_count": null,
      "outputs": [
        {
          "output_type": "execute_result",
          "data": {
            "text/plain": [
              "[2, 3, 4]"
            ]
          },
          "metadata": {},
          "execution_count": 33
        }
      ]
    },
    {
      "cell_type": "code",
      "source": [
        "c[1:]"
      ],
      "metadata": {
        "colab": {
          "base_uri": "https://localhost:8080/"
        },
        "id": "8NfE3B1_JaEM",
        "outputId": "e91c0963-ff35-4e8c-fc1a-be4e76c4fca8"
      },
      "execution_count": null,
      "outputs": [
        {
          "output_type": "execute_result",
          "data": {
            "text/plain": [
              "[2, 3, 4, 5, 6, 7, 8, 9]"
            ]
          },
          "metadata": {},
          "execution_count": 34
        }
      ]
    },
    {
      "cell_type": "code",
      "source": [
        "c[:2]"
      ],
      "metadata": {
        "colab": {
          "base_uri": "https://localhost:8080/"
        },
        "id": "yjyWg-8yJhjM",
        "outputId": "6e22da7a-0e85-4335-97b2-53df6e2782bb"
      },
      "execution_count": null,
      "outputs": [
        {
          "output_type": "execute_result",
          "data": {
            "text/plain": [
              "[1, 2]"
            ]
          },
          "metadata": {},
          "execution_count": 35
        }
      ]
    },
    {
      "cell_type": "code",
      "source": [
        "c[9::-1] # с нулевого включительно по третий не включая с шагом 2"
      ],
      "metadata": {
        "colab": {
          "base_uri": "https://localhost:8080/"
        },
        "id": "08zUcutMJkMU",
        "outputId": "4548cdee-7594-4a0e-ff01-8ecfd8d3e408"
      },
      "execution_count": null,
      "outputs": [
        {
          "output_type": "execute_result",
          "data": {
            "text/plain": [
              "[9, 8, 7, 6, 5, 4, 3, 2, 1]"
            ]
          },
          "metadata": {},
          "execution_count": 36
        }
      ]
    },
    {
      "cell_type": "code",
      "source": [
        "# шагаем с нулевого индекса по последний с шагом - 1\n",
        "# это и есть разворот списка\n",
        "c[::-1]"
      ],
      "metadata": {
        "colab": {
          "base_uri": "https://localhost:8080/"
        },
        "id": "TYzEXITiJDhe",
        "outputId": "3af91c46-3922-4018-bcc9-f9e2b159c6d8"
      },
      "execution_count": null,
      "outputs": [
        {
          "output_type": "execute_result",
          "data": {
            "text/plain": [
              "[9, 8, 7, 6, 5, 4, 3, 2, 1]"
            ]
          },
          "metadata": {},
          "execution_count": 37
        }
      ]
    },
    {
      "cell_type": "markdown",
      "source": [
        "Важное отличие списков от строк заключается в том, что списки можно изменять - как его отдельные элементы, так и перечень самих элементов (добавлять, удалять элементы из последовательности и т.п.). Ниже указаны некоторые такие операции:"
      ],
      "metadata": {
        "id": "EU7vq8VxKJdP"
      }
    },
    {
      "cell_type": "code",
      "source": [
        "# заменим список на 2м индексе на единицу\n",
        "c[2] = 1"
      ],
      "metadata": {
        "id": "tSQOOoytJqYL"
      },
      "execution_count": null,
      "outputs": []
    },
    {
      "cell_type": "code",
      "source": [
        "# можно увидеть, что значения поменялись\n",
        "c"
      ],
      "metadata": {
        "colab": {
          "base_uri": "https://localhost:8080/"
        },
        "id": "VOsmpwsBLBml",
        "outputId": "d91a5069-9084-4485-d3c8-4f09055d3d41"
      },
      "execution_count": null,
      "outputs": [
        {
          "output_type": "execute_result",
          "data": {
            "text/plain": [
              "[1, 2, 1, 4, 5, 6, 7, 8, 9]"
            ]
          },
          "metadata": {},
          "execution_count": 39
        }
      ]
    },
    {
      "cell_type": "code",
      "source": [
        "# можно так же заменять целые диапазоны\n",
        "# теперь вместо диапазона начинающегося с 1 индеса включительно\n",
        "# и заканчивающегося на 2 индесе не включая записаны значения 10 и 20\n",
        "c[1:2] = [10, 20]\n",
        "c"
      ],
      "metadata": {
        "colab": {
          "base_uri": "https://localhost:8080/"
        },
        "id": "ZfO0Yz4OLFAE",
        "outputId": "6c6b324f-4298-4a5a-b13f-00f03fcc24a7"
      },
      "execution_count": null,
      "outputs": [
        {
          "output_type": "execute_result",
          "data": {
            "text/plain": [
              "[1, 10, 20, 1, 4, 5, 6, 7, 8, 9]"
            ]
          },
          "metadata": {},
          "execution_count": 40
        }
      ]
    },
    {
      "cell_type": "markdown",
      "source": [
        "#### Append, pop\n",
        "\n",
        "Эти два метода списка чаще всего используются в реальной работе:\n",
        "\n",
        "\n",
        "c.append(elem)\n",
        "\n",
        "добавление элемента elem в конец списка c:"
      ],
      "metadata": {
        "id": "lGGho2N9L3h7"
      }
    },
    {
      "cell_type": "code",
      "source": [
        "mass = [1, 2, 3]"
      ],
      "metadata": {
        "id": "_vTIaAjkjrp_"
      },
      "execution_count": null,
      "outputs": []
    },
    {
      "cell_type": "code",
      "source": [
        "mass + [4]"
      ],
      "metadata": {
        "colab": {
          "base_uri": "https://localhost:8080/"
        },
        "id": "SYnt-NuBj_GS",
        "outputId": "7559227b-a204-46e5-e0d1-e1e6a5ffe095"
      },
      "execution_count": null,
      "outputs": [
        {
          "output_type": "execute_result",
          "data": {
            "text/plain": [
              "[1, 2, 3, 4]"
            ]
          },
          "metadata": {},
          "execution_count": 42
        }
      ]
    },
    {
      "cell_type": "code",
      "source": [
        "mass.append(4)\n",
        "\n",
        "mass"
      ],
      "metadata": {
        "colab": {
          "base_uri": "https://localhost:8080/"
        },
        "id": "Jqjbld1ILa-E",
        "outputId": "965f8d47-498d-4b15-b510-6f8ce6e4c1ca"
      },
      "execution_count": null,
      "outputs": [
        {
          "output_type": "execute_result",
          "data": {
            "text/plain": [
              "[1, 2, 3, 4]"
            ]
          },
          "metadata": {},
          "execution_count": 43
        }
      ]
    },
    {
      "cell_type": "markdown",
      "source": [
        "Разница между конкатенацией и добавлением элемента следующая: в первом случае это создание нового значения и присвоение этого нового значения переменной, во втором случае - это изменение текущего значения. Так что конкатенация определена и для строк и для списков, а добавление элемента - только для списков."
      ],
      "metadata": {
        "id": "lrdziSmMMuoA"
      }
    },
    {
      "cell_type": "markdown",
      "source": [
        "c.pop()"
      ],
      "metadata": {
        "id": "WZQoYL9kMftY"
      }
    },
    {
      "cell_type": "code",
      "source": [
        "mass.pop()\n",
        "\n",
        "mass"
      ],
      "metadata": {
        "colab": {
          "base_uri": "https://localhost:8080/"
        },
        "id": "y049rUegMDYR",
        "outputId": "25edab41-5b82-4b24-fa3d-82bae8558982"
      },
      "execution_count": null,
      "outputs": [
        {
          "output_type": "execute_result",
          "data": {
            "text/plain": [
              "[1, 2, 3]"
            ]
          },
          "metadata": {},
          "execution_count": 44
        }
      ]
    },
    {
      "cell_type": "markdown",
      "source": [
        "Операция pop() имеет возвращаемое значение - элемент, который был удален. Пример использования:"
      ],
      "metadata": {
        "id": "iXSoIDkIOOYU"
      }
    },
    {
      "cell_type": "code",
      "source": [
        "deleted = mass.pop()\n",
        "\n",
        "mass"
      ],
      "metadata": {
        "colab": {
          "base_uri": "https://localhost:8080/"
        },
        "id": "JodDW5iTONMu",
        "outputId": "aa0f5670-01c7-4089-be62-71b0edd47861"
      },
      "execution_count": null,
      "outputs": [
        {
          "output_type": "execute_result",
          "data": {
            "text/plain": [
              "[1, 2]"
            ]
          },
          "metadata": {},
          "execution_count": 45
        }
      ]
    },
    {
      "cell_type": "code",
      "source": [
        "# удаленный элемент, при прошлом запуске\n",
        "# результат возвращения функции pop никуда не был записан\n",
        "deleted"
      ],
      "metadata": {
        "colab": {
          "base_uri": "https://localhost:8080/"
        },
        "id": "8iFCTgweMigv",
        "outputId": "5229cbdf-1586-49a1-b6b8-ac73c2c10ef1"
      },
      "execution_count": null,
      "outputs": [
        {
          "output_type": "execute_result",
          "data": {
            "text/plain": [
              "3"
            ]
          },
          "metadata": {},
          "execution_count": 46
        }
      ]
    },
    {
      "cell_type": "markdown",
      "source": [
        "Подводные камни"
      ],
      "metadata": {
        "id": "K6onj93xlIVQ"
      }
    },
    {
      "cell_type": "code",
      "source": [
        "#100 45 5 6733 42 86 334\n",
        "numbers = input(\"введи свои любимые числа через пробел: \").split()\n",
        "\n",
        "print(sum(numbers))"
      ],
      "metadata": {
        "colab": {
          "base_uri": "https://localhost:8080/"
        },
        "id": "IiKXnp6NlHld",
        "outputId": "7590cc22-9c57-472c-e6d0-3308a85293fe"
      },
      "execution_count": null,
      "outputs": [
        {
          "output_type": "stream",
          "name": "stdout",
          "text": [
            "введи свои любимые числа через пробел: \n",
            "0\n"
          ]
        }
      ]
    },
    {
      "cell_type": "code",
      "source": [
        "summ = 0\n",
        "\n",
        "for i in numbers:\n",
        "  summ += int(i)\n",
        "\n",
        "print(summ)"
      ],
      "metadata": {
        "colab": {
          "base_uri": "https://localhost:8080/"
        },
        "id": "2POYv8vllO8y",
        "outputId": "e5a3781d-4ea2-4792-a5e0-f46f9194d336"
      },
      "execution_count": null,
      "outputs": [
        {
          "output_type": "stream",
          "name": "stdout",
          "text": [
            "0\n"
          ]
        }
      ]
    },
    {
      "cell_type": "markdown",
      "source": [
        "### Генератор списков"
      ],
      "metadata": {
        "id": "1oK6OhixGj_0"
      }
    },
    {
      "cell_type": "markdown",
      "source": [
        "Генератор списков - компактный способ создания списка из любого существующего итерируемого объекта. Его можно использовать генератор для фильтрации, форматирования, изменения или выполнения других небольших задач с существующими итерируемыми объектами, такими как строки, кортежи, множества, списки и т.д."
      ],
      "metadata": {
        "id": "5FAT9_ZXG0cY"
      }
    },
    {
      "cell_type": "code",
      "source": [
        "a = [i**2 for i in range(10)]\n",
        "a"
      ],
      "metadata": {
        "colab": {
          "base_uri": "https://localhost:8080/"
        },
        "id": "Mh5LoAXdGjpC",
        "outputId": "e71997f6-1dcc-4f96-f7ee-b15da0ac06da"
      },
      "execution_count": null,
      "outputs": [
        {
          "output_type": "execute_result",
          "data": {
            "text/plain": [
              "[0, 1, 4, 9, 16, 25, 36, 49, 64, 81]"
            ]
          },
          "metadata": {},
          "execution_count": 51
        }
      ]
    },
    {
      "cell_type": "code",
      "source": [
        "[elem - 81 for elem in a]"
      ],
      "metadata": {
        "colab": {
          "base_uri": "https://localhost:8080/"
        },
        "id": "_C52zxhpHBJt",
        "outputId": "d61aa010-cb48-4963-dc92-656b49c0e818"
      },
      "execution_count": null,
      "outputs": [
        {
          "output_type": "execute_result",
          "data": {
            "text/plain": [
              "[-81, -80, -77, -72, -65, -56, -45, -32, -17, 0]"
            ]
          },
          "metadata": {},
          "execution_count": 50
        }
      ]
    },
    {
      "cell_type": "markdown",
      "source": [
        "Задача 1\n",
        "Напиши код, который из списка Names выводит на экран группу\n",
        "Metallica. Используй положительную индексацию.\n",
        "Names = ['Little Big', 'The Weeknd', 'Zivert', 'Metallica', 'Макс Корж',\n",
        "'Егор Крид', 'Тима\n",
        "Белорусских', 'Billie Eilish']\n"
      ],
      "metadata": {
        "id": "tDpSdjQalubc"
      }
    },
    {
      "cell_type": "markdown",
      "source": [
        "Задача 2\n",
        "В школе Петя познакомился с таблицей умножения. Но вот беда,\n",
        "у него никак не получается запомнить, какие числа получаются\n",
        "при умножении на 3. Помоги Пете и напиши программу, которая\n",
        "создаёт список, содержащий целые, кратные трём числа в\n",
        "интервале от 1 до 50. В качестве ответа выведи на экран сумму\n",
        "элементов этого списка."
      ],
      "metadata": {
        "id": "yNNGnjCklxJF"
      }
    },
    {
      "cell_type": "markdown",
      "source": [
        "Задача 3\n",
        "Миша, которому ты помог победить в олимпиаде, рассказал об\n",
        "этом случае своему другу Лёше. Лёша тоже решил обратиться к\n",
        "тебе с похожей просьбой. Перепиши приведённый ниже код,\n",
        "используя генератор списков. Полученный в результате работы\n",
        "генератора список нужно вывести с помощью print().\n",
        "Перед тем, как запускать код ниже, попробуйте описать\n",
        "словами, что он делает.\n",
        "my_list=[]\n",
        "for x in range(1,50):\n",
        "if x%7==0:\n",
        "my_list.append(x)\n",
        "my_list"
      ],
      "metadata": {
        "id": "wODMmLv9lyEo"
      }
    },
    {
      "cell_type": "markdown",
      "source": [],
      "metadata": {
        "id": "gv8A4C5Tl1fs"
      }
    }
  ]
}