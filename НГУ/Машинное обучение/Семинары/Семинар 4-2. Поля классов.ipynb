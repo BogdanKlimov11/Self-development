{
  "nbformat": 4,
  "nbformat_minor": 0,
  "metadata": {
    "colab": {
      "provenance": []
    },
    "kernelspec": {
      "name": "python3",
      "display_name": "Python 3"
    },
    "language_info": {
      "name": "python"
    }
  },
  "cells": [
    {
      "cell_type": "markdown",
      "source": [
        "## Поля классов\n",
        "\n",
        "Мы можем создать два одинаковых объекта и несмотря на одинаковые названия параметров их значения будут отличаться.\n"
      ],
      "metadata": {
        "id": "zXd0eaG3Njp3"
      }
    },
    {
      "cell_type": "markdown",
      "source": [
        "![image.png](data:image/png;base64,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)"
      ],
      "metadata": {
        "id": "h6n1-pTgNhIJ"
      }
    },
    {
      "cell_type": "code",
      "source": [
        "class Lamp:\n",
        "  status=False\n",
        "  brightness=5\n",
        "\n",
        "  def info(self):\n",
        "\n",
        "      print(\"Статус лампочки\", self.status)\n",
        "      print(\"Eе яркость\", self.brightness)"
      ],
      "metadata": {
        "id": "YrJFxNjqNhuv"
      },
      "execution_count": null,
      "outputs": []
    },
    {
      "cell_type": "code",
      "source": [
        "Lamp_hallway = Lamp()\n",
        "Lamp_kitchen = Lamp()\n",
        "\n",
        "# Включим лампочку на кухне\n",
        "Lamp_kitchen.status=True\n",
        "Lamp_kitchen.brightness=10\n",
        "\n",
        "# Изменим яркость лампочки в коридоре\n",
        "Lamp_hallway.brightness=0"
      ],
      "metadata": {
        "id": "PcGesn_0N3iC"
      },
      "execution_count": null,
      "outputs": []
    },
    {
      "cell_type": "code",
      "source": [
        "Lamp_hallway.info()"
      ],
      "metadata": {
        "colab": {
          "base_uri": "https://localhost:8080/"
        },
        "id": "flLG_jkkOH3l",
        "outputId": "369f16b2-6657-44cc-9e74-43605ad73879"
      },
      "execution_count": null,
      "outputs": [
        {
          "output_type": "stream",
          "name": "stdout",
          "text": [
            "Статус лампочки False\n",
            "Eе яркость 0\n"
          ]
        }
      ]
    },
    {
      "cell_type": "code",
      "source": [
        "Lamp_kitchen.info()"
      ],
      "metadata": {
        "colab": {
          "base_uri": "https://localhost:8080/"
        },
        "id": "PnocrBnEOH54",
        "outputId": "d4c21f0c-94c1-4673-cab0-8150a29e3fc1"
      },
      "execution_count": null,
      "outputs": [
        {
          "output_type": "stream",
          "name": "stdout",
          "text": [
            "Статус лампочки True\n",
            "Eе яркость 10\n"
          ]
        }
      ]
    },
    {
      "cell_type": "markdown",
      "source": [
        "## Пример более \"сложного\" класса"
      ],
      "metadata": {
        "id": "WMJsbCeOYu1-"
      }
    },
    {
      "cell_type": "code",
      "source": [
        "class Lamp:\n",
        "\n",
        "  manufacturer = \"Неизветcно\"\n",
        "  voltage = 0\n",
        "  type_lamp = \"Неизветсно\"\n",
        "  watts = 0\n",
        "  type_lampshade = \"\"\n",
        "  status = False\n",
        "  brightness = 5\n",
        "\n",
        "  def info(self):\n",
        "    print(\"Лампочка имеет статус\",self.status)\n",
        "    print(\"Ее яркость\",self.brightness)"
      ],
      "metadata": {
        "id": "035GIDzzYuRE"
      },
      "execution_count": null,
      "outputs": []
    },
    {
      "cell_type": "markdown",
      "source": [
        "Cоздадим пару уникальных объектов — лампочки разных производителей:"
      ],
      "metadata": {
        "id": "6CPhiMxOZN_u"
      }
    },
    {
      "cell_type": "code",
      "source": [
        "Lamp1 = Lamp()\n",
        "Lamp2 = Lamp()\n",
        "\n",
        "Lamp1.manufacturer = \"Kитaй\"\n",
        "Lamp1.voltage = 5\n",
        "Lamp1.type_lamp = \"Светодиодная\"\n",
        "Lamp1.watts = 10\n",
        "Lamp1.type_lampshade = \"e14\"\n",
        "\n",
        "Lamp2.manufacturer = \"Pocсия\"\n",
        "Lamp2.voltage = 220\n",
        "Lamp2.type_lamp = \"Накаливаиня\"\n",
        "Lamp2.watts = 60\n",
        "Lamp2.type_lampshade = \"e27\""
      ],
      "metadata": {
        "id": "EtLS0wH9OMlP"
      },
      "execution_count": null,
      "outputs": []
    },
    {
      "cell_type": "markdown",
      "source": [
        "## Конструктор класса\n",
        "\n",
        "\n",
        "__init__() — это тоже метод, но необычный."
      ],
      "metadata": {
        "id": "sZwps4fpal_O"
      }
    },
    {
      "cell_type": "code",
      "source": [
        "class Lamp:\n",
        "  def __init__(self, manufacturer, voltage, type_lamp, watts, type_lampshade):\n",
        "        self.manufacturer=manufacturer\n",
        "        self.voltage=voltage\n",
        "        self.type_lamp=type_lamp\n",
        "        self.watts=watts\n",
        "        self.type_lampshade=type_lampshade\n",
        "\n",
        "  status=False\n",
        "  brightness=5"
      ],
      "metadata": {
        "id": "LhP8yqNeZlfd"
      },
      "execution_count": null,
      "outputs": []
    },
    {
      "cell_type": "markdown",
      "source": [
        "Конструктор начинается с def__init__. Первым параметром выступает значение self — оно передаёт ссылку на экземпляр самого класса и создаёт уникальную переменную внутри объекта.\n"
      ],
      "metadata": {
        "id": "JI3II-D3a4M9"
      }
    },
    {
      "cell_type": "code",
      "source": [
        "Lamp1 = Lamp(\"Китай\", 5, \"Светодиодная\", 10, \"e14\")\n",
        "Lamp2 = Lamp(\"Россия\",  220, \"Накаливаиня\", 60, \"e27\")"
      ],
      "metadata": {
        "id": "NzC5pSoxahRL"
      },
      "execution_count": null,
      "outputs": []
    },
    {
      "cell_type": "markdown",
      "source": [
        "Забудем \"упомянуть\" один из параметров"
      ],
      "metadata": {
        "id": "6_kNI1o3cx5c"
      }
    },
    {
      "cell_type": "code",
      "source": [
        "Lamp2 = Lamp(220, \"Накаливаиня\", 60, \"e27\")"
      ],
      "metadata": {
        "colab": {
          "base_uri": "https://localhost:8080/",
          "height": 169
        },
        "id": "gNiN02AdahWD",
        "outputId": "4ec25147-4392-4ef3-81d0-ccaf1ceb3a49"
      },
      "execution_count": null,
      "outputs": [
        {
          "output_type": "error",
          "ename": "TypeError",
          "evalue": "ignored",
          "traceback": [
            "\u001b[0;31m---------------------------------------------------------------------------\u001b[0m",
            "\u001b[0;31mTypeError\u001b[0m                                 Traceback (most recent call last)",
            "\u001b[0;32m<ipython-input-15-0d21c1b55eae>\u001b[0m in \u001b[0;36m<module>\u001b[0;34m()\u001b[0m\n\u001b[0;32m----> 1\u001b[0;31m \u001b[0mLamp2\u001b[0m \u001b[0;34m=\u001b[0m \u001b[0mLamp\u001b[0m\u001b[0;34m(\u001b[0m\u001b[0;36m220\u001b[0m\u001b[0;34m,\u001b[0m \u001b[0;34m\"Накаливаиня\"\u001b[0m\u001b[0;34m,\u001b[0m \u001b[0;36m60\u001b[0m\u001b[0;34m,\u001b[0m \u001b[0;34m\"e27\"\u001b[0m\u001b[0;34m)\u001b[0m\u001b[0;34m\u001b[0m\u001b[0;34m\u001b[0m\u001b[0m\n\u001b[0m",
            "\u001b[0;31mTypeError\u001b[0m: __init__() missing 1 required positional argument: 'type_lampshade'"
          ]
        }
      ]
    },
    {
      "cell_type": "markdown",
      "source": [
        "# Статические и динамические поля"
      ],
      "metadata": {
        "id": "JQedcUtwdiKw"
      }
    },
    {
      "cell_type": "code",
      "source": [
        "class Lamp:\n",
        "  def __init__(self, manufacturer, voltage, type_lamp, watts, type_lampshade):\n",
        "        self.manufacturer=manufacturer  # поле будет обьявлено после создания обьекта\n",
        "        self.voltage=voltage\n",
        "        self.type_lamp=type_lamp\n",
        "        self.watts=watts\n",
        "        self.type_lampshade=type_lampshade\n",
        "\n",
        "  status=False # поле обьявлено сразу в классе\n",
        "  brightness=5"
      ],
      "metadata": {
        "id": "q5d6-aDpdvlu"
      },
      "execution_count": null,
      "outputs": []
    },
    {
      "cell_type": "code",
      "source": [
        "Lamp.brightness  # Cтатическое поле"
      ],
      "metadata": {
        "colab": {
          "base_uri": "https://localhost:8080/"
        },
        "id": "58HD4ITic1io",
        "outputId": "4f97898b-48ec-46d8-af0f-5ea2aa1a0a31"
      },
      "execution_count": null,
      "outputs": [
        {
          "output_type": "execute_result",
          "data": {
            "text/plain": [
              "5"
            ]
          },
          "metadata": {},
          "execution_count": 16
        }
      ]
    },
    {
      "cell_type": "code",
      "source": [
        "Lamp.manufacturer # Динамическое поле"
      ],
      "metadata": {
        "colab": {
          "base_uri": "https://localhost:8080/",
          "height": 169
        },
        "id": "2Ft4gEwddqBa",
        "outputId": "80f3018e-6bf0-473f-c0f6-4ee421eabbc9"
      },
      "execution_count": null,
      "outputs": [
        {
          "output_type": "error",
          "ename": "AttributeError",
          "evalue": "ignored",
          "traceback": [
            "\u001b[0;31m---------------------------------------------------------------------------\u001b[0m",
            "\u001b[0;31mAttributeError\u001b[0m                            Traceback (most recent call last)",
            "\u001b[0;32m<ipython-input-19-6f1eedffc2fb>\u001b[0m in \u001b[0;36m<module>\u001b[0;34m()\u001b[0m\n\u001b[0;32m----> 1\u001b[0;31m \u001b[0mLamp\u001b[0m\u001b[0;34m.\u001b[0m\u001b[0mmanufacturer\u001b[0m \u001b[0;31m# Динамическое поле\u001b[0m\u001b[0;34m\u001b[0m\u001b[0;34m\u001b[0m\u001b[0m\n\u001b[0m",
            "\u001b[0;31mAttributeError\u001b[0m: type object 'Lamp' has no attribute 'manufacturer'"
          ]
        }
      ]
    }
  ]
}