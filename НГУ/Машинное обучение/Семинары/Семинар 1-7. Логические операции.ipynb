{
  "nbformat": 4,
  "nbformat_minor": 0,
  "metadata": {
    "colab": {
      "name": "1.6.1 Логические операции.ipynb",
      "provenance": [],
      "collapsed_sections": []
    },
    "kernelspec": {
      "name": "python3",
      "display_name": "Python 3"
    },
    "language_info": {
      "name": "python"
    }
  },
  "cells": [
    {
      "cell_type": "markdown",
      "source": [
        "## Петя домосед\n"
      ],
      "metadata": {
        "id": "KstSdEOX22vx"
      }
    },
    {
      "cell_type": "markdown",
      "source": [
        "Ему очень нравиться гулять при хорошей погоде, но одному на улице ему слишком скучно и просто так он не выйдет. Петя любит быть на улице с друзьями, но при плохой погоде он предпочтет остаться дома.  Его друзья составили такой алгоритм:\n"
      ],
      "metadata": {
        "id": "NC7ZUJAO29LR"
      }
    },
    {
      "cell_type": "markdown",
      "source": [
        "![image.png](data:image/png;base64,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)"
      ],
      "metadata": {
        "id": "5jws3aLi4QeF"
      }
    },
    {
      "cell_type": "markdown",
      "source": [
        "Одновременно в if может быть записано только одно условие, но за счет логических операций можно сделать из пары простых условий одно сложное.  В этом нам помогут логические операторы, они будут выступать в качестве клея между выражениями:\n",
        "\n",
        "* **and** - Логическое И —  связывает два условия и возвращает True только в том случае если оба условия верные. \n",
        "* **or** - Логическое ИЛИ — связывает два условия. Он возвращает True тогда, когда хотя бы один операнд равен True.\n",
        "* **not** - Логическое НЕ (отрицание) — применяется на одно условие. Логическое НЕ возвращает True, если операнд равен False и наоборот.\n"
      ],
      "metadata": {
        "id": "jSoi_3DH4c1m"
      }
    },
    {
      "cell_type": "markdown",
      "source": [
        "## *Логическое И*"
      ],
      "metadata": {
        "id": "b5o5bTnj4iuB"
      }
    },
    {
      "cell_type": "markdown",
      "source": [
        "В случае с Петей, для его выхода из дома должно выполняться сразу два события.  Воспользуемся and. \n"
      ],
      "metadata": {
        "id": "ZZhn6rb04oeW"
      }
    },
    {
      "cell_type": "code",
      "execution_count": null,
      "metadata": {
        "colab": {
          "base_uri": "https://localhost:8080/"
        },
        "id": "bRmz0ol8CiqL",
        "outputId": "a2df5463-fb41-4968-8a51-330f62301fc8"
      },
      "outputs": [
        {
          "output_type": "stream",
          "name": "stdout",
          "text": [
            "Какая погода на улице?Хорошая\n",
            "Где находяться друзья?На улице\n",
            "Петя выйдет\n"
          ]
        }
      ],
      "source": [
        "weather = input(\"Какая погода на улице? \")\n",
        "friends = input(\"Где находяться друзья? \")\n",
        "\n",
        "if weather == \"Хорошая\" and friends == \"На улице\":\n",
        "  print(\"Петя выйдет\")\n",
        "else:\n",
        "  print(\"Петя будет сидеть дома\")"
      ]
    },
    {
      "cell_type": "markdown",
      "source": [
        "Новое выражением станет истинным, только если истинно — каждое из составных выражений. Иными словами, and означает «и то, и другое».\n",
        "\n"
      ],
      "metadata": {
        "id": "Dr5jqk__5jhS"
      }
    },
    {
      "cell_type": "code",
      "source": [
        "a = int(input())\n",
        "\n",
        "if a>=7 and a<=17:\n",
        "  print(\"Вероятно вы школьник\")\n",
        "else:\n",
        "  print(\"Вероятно вы не школьник\")"
      ],
      "metadata": {
        "colab": {
          "base_uri": "https://localhost:8080/"
        },
        "id": "l9lTiM2W5Uh7",
        "outputId": "a998e1c7-e847-4e68-bbc8-02288dd14c88"
      },
      "execution_count": null,
      "outputs": [
        {
          "output_type": "stream",
          "name": "stdout",
          "text": [
            "15\n",
            "Вероятно вы школьник\n"
          ]
        }
      ]
    },
    {
      "cell_type": "code",
      "source": [
        "mounth = int(input())\n",
        "day = int(input())\n",
        "hours = int(input())\n",
        "minutes = int(input())\n",
        "seconds = int(input())\n",
        "\n",
        "if mounth == 12 and day == 31 and hours == 23 and minutes == 59 and seconds == 59:\n",
        "  print(\"C новым годом!\")\n",
        "\n",
        "else:\n",
        "  print(\"Eще рано!\")"
      ],
      "metadata": {
        "colab": {
          "base_uri": "https://localhost:8080/"
        },
        "id": "XDTmn7wL5_KH",
        "outputId": "2abe09e9-a30c-4e44-b5a1-dcfb6873a02d"
      },
      "execution_count": null,
      "outputs": [
        {
          "output_type": "stream",
          "name": "stdout",
          "text": [
            "1\n",
            "1\n",
            "1\n",
            "1\n",
            "1\n",
            "Eще рано!\n"
          ]
        }
      ]
    },
    {
      "cell_type": "markdown",
      "source": [
        "Оператор **and**  стоить сравнить с умножением:\n",
        "* *Если первое утверждение истинно (True), а второе ложно (False), то результат - 1 * 0 = 0 False;*\n",
        "* *Если оба ложны (False), то результат - 0 * 0 = 0  ложь (False).*\n",
        "* *Если оба верны (True), то результат - 1 * 1 = 1 истина (True).*\n"
      ],
      "metadata": {
        "id": "kK1peNrO6yot"
      }
    },
    {
      "cell_type": "markdown",
      "source": [
        "## *Логическое Или*\n",
        "Для возвращения **True** в программу требуется что бы хотя бы одно из условий выполнялось"
      ],
      "metadata": {
        "id": "ohQ-F0Qt728w"
      }
    },
    {
      "cell_type": "code",
      "source": [
        "weather = input(\"Какая погода на улице? \")\n",
        "friends = input(\"Где находяться друзья? \")\n",
        "\n",
        "if weather == \"Хорошая\" or friends == \"На улице\":\n",
        "  print(\"Петя выйдет\")\n",
        "else:\n",
        "  print(\"Петя будет сидеть дома\")"
      ],
      "metadata": {
        "colab": {
          "base_uri": "https://localhost:8080/"
        },
        "id": "WkDC2GLH61-s",
        "outputId": "86952b0d-0785-46e0-a462-24456e5d85b7"
      },
      "execution_count": null,
      "outputs": [
        {
          "output_type": "stream",
          "name": "stdout",
          "text": [
            "Какая погода на улице? Плохая\n",
            "Где находяться друзья? На улице\n",
            "Петя выйдет\n"
          ]
        }
      ]
    },
    {
      "cell_type": "markdown",
      "source": [
        "OR можно сравнить со сложением, где  нельзя превысить максимальное значение - 1. Рассмотрим возможные случаи.\n",
        "* Если первое утверждение истинно, а второе ложно, то результат - 1 + 0 = 1 (истина).\n",
        "* Если же, наоборот, первое ложно, а второе - истинно, то результат - 0 + 1 = 1 (истина).\n",
        "* Если оба верны, то результат - 1 + 1 = 1, то есть снова истина.\n",
        "* Если оба неверны, то результат - 0 + 0 = 0 (ложь).\n"
      ],
      "metadata": {
        "id": "h9edBwVo8Txa"
      }
    },
    {
      "cell_type": "markdown",
      "source": [
        "## **Логическое НЕ**\n",
        "\n",
        "Логическое отрицание или логическое не, в отличии от прошлых логических операторов применяться только на один элемент. Он меняет положение условия на противоположное.\n",
        "\n"
      ],
      "metadata": {
        "id": "x-11nLil8bno"
      }
    },
    {
      "cell_type": "markdown",
      "source": [
        "**True = not False**"
      ],
      "metadata": {
        "id": "H_8cFFJQ8gG5"
      }
    },
    {
      "cell_type": "code",
      "source": [
        "weather = input(\"Какая погода на улице? \")\n",
        "\n",
        "if not weather == \"Не дождь\":\n",
        "  print(\"Петя выйдет\")\n",
        "else:\n",
        "  print(\"Петя будет сидеть дома\")"
      ],
      "metadata": {
        "colab": {
          "base_uri": "https://localhost:8080/"
        },
        "id": "H4WVix2T8CfG",
        "outputId": "f666a350-72df-494c-f645-b15126293000"
      },
      "execution_count": null,
      "outputs": [
        {
          "output_type": "stream",
          "name": "stdout",
          "text": [
            "Какая погода на улице? Солнечно\n",
            "Петя выйдет\n"
          ]
        }
      ]
    },
    {
      "cell_type": "code",
      "source": [
        "age = int(input(\"Сколько вам лет? \"))\n",
        "\n",
        "if not(18 > age):\n",
        "  print(\"Не хотите поучатсвоавть в нашей акции?\")"
      ],
      "metadata": {
        "colab": {
          "base_uri": "https://localhost:8080/"
        },
        "id": "QRNxUIYO8iXT",
        "outputId": "9fd4310b-692a-4d83-ebae-737dd4db35f9"
      },
      "execution_count": null,
      "outputs": [
        {
          "output_type": "stream",
          "name": "stdout",
          "text": [
            "Сколько вам лет? 19\n",
            "Не хотите поучатсвоавть в нашей акции?\n"
          ]
        }
      ]
    },
    {
      "cell_type": "code",
      "source": [
        ""
      ],
      "metadata": {
        "id": "gfuKp1IG8iZ7"
      },
      "execution_count": null,
      "outputs": []
    }
  ]
}