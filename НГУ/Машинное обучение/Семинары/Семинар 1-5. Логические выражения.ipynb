{
  "nbformat": 4,
  "nbformat_minor": 0,
  "metadata": {
    "colab": {
      "name": "1.4.2 Логические выражения.ipynb",
      "provenance": [],
      "collapsed_sections": []
    },
    "kernelspec": {
      "name": "python3",
      "display_name": "Python 3"
    },
    "language_info": {
      "name": "python"
    }
  },
  "cells": [
    {
      "cell_type": "markdown",
      "source": [
        "## Высказывания"
      ],
      "metadata": {
        "id": "PJ4-kuvx7eYU"
      }
    },
    {
      "cell_type": "markdown",
      "source": [
        "Какие из следующих утверждений можно назвать высказываниями?\n",
        "* Температура плавления свинца 1500 градусов\n",
        "* Русский писатель А.С Пушкин родился в 1799\n",
        "* Все мандарины вкусные\n",
        "* Второй закон Ньютона выражается формулой F=m•а\n",
        "* Встань и закрой дверь\n"
      ],
      "metadata": {
        "id": "eJtFAxzW7kk_"
      }
    },
    {
      "cell_type": "markdown",
      "source": [
        "Какие из следующих утверждений можно назвать высказываниями?\n",
        "* Земля плоская\n",
        "* Это предложение является ложным\n",
        "* 13 + 24 = 37\n",
        "* 12**2 = 120\n"
      ],
      "metadata": {
        "id": "Mt4_eTkU8F5D"
      }
    },
    {
      "cell_type": "markdown",
      "source": [
        "## Выражения в python"
      ],
      "metadata": {
        "id": "vmMF82Ps8OH_"
      }
    },
    {
      "cell_type": "markdown",
      "source": [
        "Оценим выражение  15 + 7 > 20  - оно правдиво, ведь число 22 больше 20. Давай запишем тоже самое но уже в Python. \n"
      ],
      "metadata": {
        "id": "lrL6Djn78NNk"
      }
    },
    {
      "cell_type": "code",
      "execution_count": null,
      "metadata": {
        "colab": {
          "base_uri": "https://localhost:8080/"
        },
        "id": "FT1aEVfO7QlD",
        "outputId": "df4b465a-25de-461f-b032-45f34231eb3e"
      },
      "outputs": [
        {
          "output_type": "stream",
          "name": "stdout",
          "text": [
            "True\n"
          ]
        }
      ],
      "source": [
        "print(15 + 7 > 20)"
      ]
    },
    {
      "cell_type": "code",
      "source": [
        "print((85032/100) * (4597 + 1678) < 200**2 + 78994/141444 * 500**2)"
      ],
      "metadata": {
        "colab": {
          "base_uri": "https://localhost:8080/"
        },
        "id": "GrzyADw08nsP",
        "outputId": "e2d4d3cd-1e36-48b4-aa84-306a67b2f131"
      },
      "execution_count": null,
      "outputs": [
        {
          "output_type": "stream",
          "name": "stdout",
          "text": [
            "False\n"
          ]
        }
      ]
    },
    {
      "cell_type": "markdown",
      "source": [
        "Результат программы False - ложь. Удобно что в не зависимости от длины, сложности и количества элементов, в логическом выражении всего два конечных результата:\n",
        "* True \n",
        "* False\n"
      ],
      "metadata": {
        "id": "5MSZ7fk39FmG"
      }
    },
    {
      "cell_type": "markdown",
      "source": [
        "##Операторы сравнений\n"
      ],
      "metadata": {
        "id": "66xqQT_V9D9D"
      }
    },
    {
      "cell_type": "markdown",
      "source": [
        "Первая тройка знакома тебе еще с начальной школы:\n",
        "* «<» (меньше) — условие верно, если первый операнд меньше второго;\n",
        "* «>» (больше) — условие верно, если первый операнд больше второго;\n",
        "* «==» (равенство) — условие верно, если два операнда равны;\n",
        "\n",
        "Комбинируя их между собой можно получить еще три оператора :\n",
        "* «<=» (меньше или равно) — условие верно, если первый операнд меньше второго или они равны;\n",
        "* «>=» (больше или равно) — условие верно, если первый операнд больше второго или они равны;\n",
        "* «!=» (неравенство) — условие верно, если два операнда не равны.\n"
      ],
      "metadata": {
        "id": "IwJVUuQz9St8"
      }
    },
    {
      "cell_type": "code",
      "source": [
        "print(25**2 == 625)"
      ],
      "metadata": {
        "colab": {
          "base_uri": "https://localhost:8080/"
        },
        "id": "ut29z_HX-yQw",
        "outputId": "98010f0c-3244-4dba-ecae-56ef8e7d495a"
      },
      "execution_count": null,
      "outputs": [
        {
          "output_type": "stream",
          "name": "stdout",
          "text": [
            "True\n"
          ]
        }
      ]
    },
    {
      "cell_type": "code",
      "source": [
        "print(42 <= 50 - 8)"
      ],
      "metadata": {
        "colab": {
          "base_uri": "https://localhost:8080/"
        },
        "id": "vuluj4ka-yUG",
        "outputId": "d1c9f869-b73c-4f73-a7be-9fe2f855e03b"
      },
      "execution_count": null,
      "outputs": [
        {
          "output_type": "stream",
          "name": "stdout",
          "text": [
            "True\n"
          ]
        }
      ]
    },
    {
      "cell_type": "code",
      "source": [
        "print(42 != int(\"4\" + \"2\"))"
      ],
      "metadata": {
        "colab": {
          "base_uri": "https://localhost:8080/"
        },
        "id": "TxQEeqJv-yYF",
        "outputId": "bd3f8ccc-f6cf-49a9-83c9-5ad972ad02b8"
      },
      "execution_count": null,
      "outputs": [
        {
          "output_type": "stream",
          "name": "stdout",
          "text": [
            "False\n"
          ]
        }
      ]
    },
    {
      "cell_type": "markdown",
      "source": [
        "**Важно!**\n",
        "\n",
        "\n",
        "Оператор «==» (в отличие от привычного «равно») используется не для присваивания значений, а для сравнения двух объектов между собой.\n"
      ],
      "metadata": {
        "id": "Bip1yyeY9YE-"
      }
    },
    {
      "cell_type": "code",
      "source": [
        "a = 123 != 100"
      ],
      "metadata": {
        "id": "1FaivHk79FH6"
      },
      "execution_count": null,
      "outputs": []
    },
    {
      "cell_type": "code",
      "source": [
        "print(a)"
      ],
      "metadata": {
        "colab": {
          "base_uri": "https://localhost:8080/"
        },
        "id": "wqcDcVmL9dlI",
        "outputId": "920f06f4-23e9-47ac-de78-d2e83f15fcd9"
      },
      "execution_count": null,
      "outputs": [
        {
          "output_type": "stream",
          "name": "stdout",
          "text": [
            "True\n"
          ]
        }
      ]
    },
    {
      "cell_type": "markdown",
      "source": [
        "Переменная хранящая **boolean**  занимает всего один бит информации. Для сравнения int занимает 8 бит,  а float 16. \n"
      ],
      "metadata": {
        "id": "GJlnX8j39idy"
      }
    },
    {
      "cell_type": "code",
      "source": [
        "print(\"apple\" == \"apple\")\n",
        "print(\"apple\" == \"banana\")"
      ],
      "metadata": {
        "colab": {
          "base_uri": "https://localhost:8080/"
        },
        "id": "LtlsAbVi9edu",
        "outputId": "c44e08cf-bb51-41fa-dcd5-009452769b39"
      },
      "execution_count": null,
      "outputs": [
        {
          "output_type": "stream",
          "name": "stdout",
          "text": [
            "True\n",
            "False\n"
          ]
        }
      ]
    },
    {
      "cell_type": "code",
      "source": [
        "print(\"apple\" == \"Apple\")\n",
        "print(\"apple\" == \"appl\")"
      ],
      "metadata": {
        "colab": {
          "base_uri": "https://localhost:8080/"
        },
        "id": "31_RDvzY9o3D",
        "outputId": "b05b6271-80ea-4bcc-e4cb-0dec26e40fb6"
      },
      "execution_count": null,
      "outputs": [
        {
          "output_type": "stream",
          "name": "stdout",
          "text": [
            "False\n",
            "False\n"
          ]
        }
      ]
    },
    {
      "cell_type": "markdown",
      "source": [
        "Операторы сравнения в Python можно объединять в цепочки. Например: "
      ],
      "metadata": {
        "id": "7veHJ1md91yM"
      }
    },
    {
      "cell_type": "code",
      "source": [
        "x = 15\n",
        "\n",
        "print(1 <= x <= 20)"
      ],
      "metadata": {
        "colab": {
          "base_uri": "https://localhost:8080/"
        },
        "id": "-IDpc7kP9rRZ",
        "outputId": "690a960f-a360-4fe7-eff9-7dd4404f12c5"
      },
      "execution_count": null,
      "outputs": [
        {
          "output_type": "stream",
          "name": "stdout",
          "text": [
            "True\n"
          ]
        }
      ]
    },
    {
      "cell_type": "code",
      "source": [
        "print(1 <= x <= 10)"
      ],
      "metadata": {
        "colab": {
          "base_uri": "https://localhost:8080/"
        },
        "id": "7P9MzW2695U3",
        "outputId": "816bf01c-9daf-491b-cef7-79a050f68a34"
      },
      "execution_count": null,
      "outputs": [
        {
          "output_type": "stream",
          "name": "stdout",
          "text": [
            "False\n"
          ]
        }
      ]
    }
  ]
}