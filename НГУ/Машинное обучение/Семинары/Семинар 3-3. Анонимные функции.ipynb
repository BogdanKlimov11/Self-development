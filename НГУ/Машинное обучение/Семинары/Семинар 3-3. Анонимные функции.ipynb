{
  "nbformat": 4,
  "nbformat_minor": 0,
  "metadata": {
    "colab": {
      "name": "5.3.ipynb",
      "provenance": []
    },
    "kernelspec": {
      "name": "python3",
      "display_name": "Python 3"
    },
    "language_info": {
      "name": "python"
    }
  },
  "cells": [
    {
      "cell_type": "code",
      "execution_count": null,
      "metadata": {
        "colab": {
          "base_uri": "https://localhost:8080/"
        },
        "id": "c10WKAq6VqUj",
        "outputId": "12def2cc-4c24-47cc-b1f8-f3a5385a8782"
      },
      "outputs": [
        {
          "output_type": "stream",
          "name": "stdout",
          "text": [
            "Hello\n"
          ]
        }
      ],
      "source": [
        "def say_hello():\n",
        "    print(\"Hello\")\n",
        "\n",
        "\n",
        "greetings = say_hello\n",
        "\n",
        "greetings()"
      ]
    },
    {
      "cell_type": "markdown",
      "source": [
        "## Функция **map**"
      ],
      "metadata": {
        "id": "UM3As55sXeat"
      }
    },
    {
      "cell_type": "code",
      "source": [
        "numbers = \"123 142 79 66 300 55 32 56 32\""
      ],
      "metadata": {
        "id": "dm1-2-DLVvk3"
      },
      "execution_count": null,
      "outputs": []
    },
    {
      "cell_type": "code",
      "source": [
        "numbers = numbers.split()\n",
        "numbers"
      ],
      "metadata": {
        "colab": {
          "base_uri": "https://localhost:8080/"
        },
        "id": "7AmIjUfe315H",
        "outputId": "74c00a87-9343-4f48-ab4c-e19f3a5c8dba"
      },
      "execution_count": null,
      "outputs": [
        {
          "output_type": "execute_result",
          "data": {
            "text/plain": [
              "['123', '142', '79', '66', '300', '55', '32', '56', '32']"
            ]
          },
          "metadata": {},
          "execution_count": 6
        }
      ]
    },
    {
      "cell_type": "code",
      "source": [
        "\n",
        "for i in range(len(numbers)):\n",
        "  numbers[i] = int(numbers[i])\n",
        "\n",
        "print(numbers)"
      ],
      "metadata": {
        "colab": {
          "base_uri": "https://localhost:8080/"
        },
        "id": "-QWJpmKIXvWa",
        "outputId": "6d24742f-3b55-498f-da2e-c8c8776f2c25"
      },
      "execution_count": null,
      "outputs": [
        {
          "output_type": "stream",
          "name": "stdout",
          "text": [
            "[123, 142, 79, 66, 300, 55, 32, 56, 32]\n"
          ]
        }
      ]
    },
    {
      "cell_type": "code",
      "source": [
        ""
      ],
      "metadata": {
        "id": "QOAzh7BmYgtT"
      },
      "execution_count": null,
      "outputs": []
    },
    {
      "cell_type": "code",
      "source": [
        "numbers = \"123 142 79 66 300 55 32 56 32\"\n",
        "numbers = map(int, numbers.split())\n",
        "\n",
        "print(numbers)"
      ],
      "metadata": {
        "colab": {
          "base_uri": "https://localhost:8080/"
        },
        "id": "su-UgXs0Y_4m",
        "outputId": "c2ebe55e-ff15-4109-d75a-da107cbb381f"
      },
      "execution_count": null,
      "outputs": [
        {
          "output_type": "stream",
          "name": "stdout",
          "text": [
            "<map object at 0x7f3e9c972850>\n"
          ]
        }
      ]
    },
    {
      "cell_type": "code",
      "source": [
        "numbers = \"123 142 79 66 300 55 32 56 32\"\n",
        "numbers = list(map(int, numbers.split()))\n",
        "\n",
        "print(numbers)"
      ],
      "metadata": {
        "colab": {
          "base_uri": "https://localhost:8080/"
        },
        "id": "xxuz4DvlZH2Y",
        "outputId": "deacea04-0306-4ddc-e81c-a124ebe69db9"
      },
      "execution_count": null,
      "outputs": [
        {
          "output_type": "stream",
          "name": "stdout",
          "text": [
            "[123, 142, 79, 66, 300, 55, 32, 56, 32]\n"
          ]
        }
      ]
    },
    {
      "cell_type": "code",
      "source": [
        "def polite_name(name):\n",
        "   return 'Mr.' + name\n",
        "\n",
        "guests = [\"Boris\",\"Ivan\",\"Bob\"]\n",
        "guest_iterator = map(polite_name, guests)\n",
        "\n",
        "list(guest_iterator)"
      ],
      "metadata": {
        "colab": {
          "base_uri": "https://localhost:8080/"
        },
        "id": "jEWytIe2aQMA",
        "outputId": "96bc47fa-c1cb-4afa-bdde-6f825b889759"
      },
      "execution_count": null,
      "outputs": [
        {
          "output_type": "execute_result",
          "data": {
            "text/plain": [
              "['Mr.Boris', 'Mr.Ivan', 'Mr.Bob']"
            ]
          },
          "metadata": {},
          "execution_count": 12
        }
      ]
    },
    {
      "cell_type": "markdown",
      "source": [
        "## Анонимные функции"
      ],
      "metadata": {
        "id": "KVdm3rORceNd"
      }
    },
    {
      "cell_type": "code",
      "source": [
        "def sum_squares(a,b):\n",
        "  c = a**2 + 2*b*a + b**2\n",
        "  return c"
      ],
      "metadata": {
        "id": "blhWKGWfdqL6"
      },
      "execution_count": null,
      "outputs": []
    },
    {
      "cell_type": "code",
      "source": [
        "sum_squares = lambda a,b: a**2 + 2*b*a + b**2"
      ],
      "metadata": {
        "id": "_M8TE-RrbmrE"
      },
      "execution_count": null,
      "outputs": []
    },
    {
      "cell_type": "code",
      "source": [
        "sum_squares(5,6)"
      ],
      "metadata": {
        "colab": {
          "base_uri": "https://localhost:8080/"
        },
        "id": "x_HS1tu8dw4o",
        "outputId": "5d266eca-2ebb-4cd2-e9e8-200b799c2718"
      },
      "execution_count": null,
      "outputs": [
        {
          "output_type": "execute_result",
          "data": {
            "text/plain": [
              "121"
            ]
          },
          "metadata": {},
          "execution_count": 16
        }
      ]
    },
    {
      "cell_type": "markdown",
      "source": [
        "## **map** и анонимные функции"
      ],
      "metadata": {
        "id": "_yixZKqJf2_W"
      }
    },
    {
      "cell_type": "code",
      "source": [
        "guests=[\"Boris\",\"Ivan\",\"Bob\"]\n",
        " \n",
        "guests = list(map(lambda name:\"Mr.\"+name, guests))"
      ],
      "metadata": {
        "id": "OE_Dzz1Lf2aW"
      },
      "execution_count": null,
      "outputs": []
    },
    {
      "cell_type": "code",
      "source": [
        "guests"
      ],
      "metadata": {
        "colab": {
          "base_uri": "https://localhost:8080/"
        },
        "id": "BQnfjoOtfLIy",
        "outputId": "60c528f2-c96b-432b-d4c1-edb64b723b43"
      },
      "execution_count": null,
      "outputs": [
        {
          "output_type": "execute_result",
          "data": {
            "text/plain": [
              "['Mr.Boris', 'Mr.Ivan', 'Mr.Bob']"
            ]
          },
          "metadata": {},
          "execution_count": 18
        }
      ]
    }
  ]
}