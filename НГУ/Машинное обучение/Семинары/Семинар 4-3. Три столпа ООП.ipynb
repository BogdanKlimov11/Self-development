{
  "nbformat": 4,
  "nbformat_minor": 0,
  "metadata": {
    "colab": {
      "provenance": []
    },
    "kernelspec": {
      "name": "python3",
      "display_name": "Python 3"
    },
    "language_info": {
      "name": "python"
    }
  },
  "cells": [
    {
      "cell_type": "markdown",
      "source": [
        "## **Наследование**\n",
        "\n",
        "-  механизм, который позволяет копировать  свойства и поведение других классов. Благодаря этому можно расширить или модифицировать функционал существующих объектов."
      ],
      "metadata": {
        "id": "VKblmzhLgT6R"
      }
    },
    {
      "cell_type": "markdown",
      "source": [
        "Определим класс \"родителя\""
      ],
      "metadata": {
        "id": "mv_OodsFbYAI"
      }
    },
    {
      "cell_type": "code",
      "execution_count": null,
      "metadata": {
        "id": "sB9U-u71gPJ3"
      },
      "outputs": [],
      "source": [
        "class Electrical_device():\n",
        "  def __init__(self, voltage, name):\n",
        "    self.voltage = voltage\n",
        "    self.name = name\n",
        "\n",
        "    status = False\n",
        "\n",
        "  def On(self):\n",
        "    self.status = True\n",
        "    print(\"Устройство включенно\", self.name)\n",
        "\n",
        "  def Off(self):\n",
        "\n",
        "    self.status = False\n",
        "    print(\"Устройство выключенно\", self.name)"
      ]
    },
    {
      "cell_type": "markdown",
      "source": [
        "Определим класс лампочки"
      ],
      "metadata": {
        "id": "EyRZcPO9buST"
      }
    },
    {
      "cell_type": "code",
      "source": [
        "class Lamp(Electrical_device): # унаследуем свойства родителя\n",
        "  brightness = 0\n",
        "\n",
        "  def info(self):\n",
        "      print(\"Статус лампочки\", self.status)\n",
        "      print(\"Eе яркость\", self.brightness)\n"
      ],
      "metadata": {
        "id": "hIkMvnQ5gTiK"
      },
      "execution_count": null,
      "outputs": []
    },
    {
      "cell_type": "markdown",
      "source": [
        "Определим класс пылесоса"
      ],
      "metadata": {
        "id": "O5_r-A1lcBaR"
      }
    },
    {
      "cell_type": "code",
      "source": [
        "class Cleaner(Electrical_device) :\n",
        "  type_of_cleaning = \"средняя\"\n",
        "\n",
        "  def cleaning(self):\n",
        "    if self.type_of_cleaning == \"средняя\":\n",
        "      print (\"вжвжвжвжвжвжв\")\n",
        "    if self.type_of_cleaning == \"сильная\":\n",
        "      print (\"ВЖВЖВЖВВЖВЖВВЖ\")"
      ],
      "metadata": {
        "id": "d8yd9odvb77g"
      },
      "execution_count": null,
      "outputs": []
    },
    {
      "cell_type": "markdown",
      "source": [
        "Обьявим новые обьекты"
      ],
      "metadata": {
        "id": "JWL3DtnmcUdE"
      }
    },
    {
      "cell_type": "code",
      "source": [
        "Cleaner1 = Cleaner(220, \"Poбот пылесос\")\n",
        "Lamp1 = Lamp(220, \"Умная лампочка\")"
      ],
      "metadata": {
        "id": "GKwbTOaLgTlC"
      },
      "execution_count": null,
      "outputs": []
    },
    {
      "cell_type": "code",
      "source": [
        "Lamp1.On()\n",
        "Lamp1.info()"
      ],
      "metadata": {
        "colab": {
          "base_uri": "https://localhost:8080/"
        },
        "id": "9ibwGeOcdC9h",
        "outputId": "70be7f9b-6cda-46c0-a3ad-cd68f1bfaa7b"
      },
      "execution_count": null,
      "outputs": [
        {
          "output_type": "stream",
          "name": "stdout",
          "text": [
            "Устройство включенно Умная лампочка\n",
            "Статус лампочки True\n",
            "Eе яркость 0\n"
          ]
        }
      ]
    },
    {
      "cell_type": "code",
      "source": [
        "Cleaner1.type_of_cleaning = \"сильная\"\n",
        "Cleaner1.cleaning()"
      ],
      "metadata": {
        "colab": {
          "base_uri": "https://localhost:8080/"
        },
        "id": "FJQ0uuUWdC_S",
        "outputId": "40e7c867-83f4-4303-c7d2-b1fc7d56c969"
      },
      "execution_count": null,
      "outputs": [
        {
          "output_type": "stream",
          "name": "stdout",
          "text": [
            "ВЖВЖВЖВВЖВЖВВЖ\n"
          ]
        }
      ]
    },
    {
      "cell_type": "markdown",
      "source": [
        "**Важно**  родитель не может обладать функционалом своих дочерних классов.\n"
      ],
      "metadata": {
        "id": "OeP2YTNJcg3B"
      }
    },
    {
      "cell_type": "code",
      "source": [
        "New_device = Electrical_device(220, \"Тостер\")\n",
        "\n",
        "New_device.cleaning()"
      ],
      "metadata": {
        "colab": {
          "base_uri": "https://localhost:8080/",
          "height": 206
        },
        "id": "bPzVWnq7dTDp",
        "outputId": "770de967-7717-4700-d6de-29a4647016c0"
      },
      "execution_count": null,
      "outputs": [
        {
          "output_type": "error",
          "ename": "AttributeError",
          "evalue": "ignored",
          "traceback": [
            "\u001b[0;31m---------------------------------------------------------------------------\u001b[0m",
            "\u001b[0;31mAttributeError\u001b[0m                            Traceback (most recent call last)",
            "\u001b[0;32m<ipython-input-20-e71d0e0b7b90>\u001b[0m in \u001b[0;36m<module>\u001b[0;34m()\u001b[0m\n\u001b[1;32m      1\u001b[0m \u001b[0mNew_device\u001b[0m \u001b[0;34m=\u001b[0m \u001b[0mElectrical_device\u001b[0m\u001b[0;34m(\u001b[0m\u001b[0;36m220\u001b[0m\u001b[0;34m,\u001b[0m \u001b[0;34m\"Тостер\"\u001b[0m\u001b[0;34m)\u001b[0m\u001b[0;34m\u001b[0m\u001b[0;34m\u001b[0m\u001b[0m\n\u001b[1;32m      2\u001b[0m \u001b[0;34m\u001b[0m\u001b[0m\n\u001b[0;32m----> 3\u001b[0;31m \u001b[0mNew_device\u001b[0m\u001b[0;34m.\u001b[0m\u001b[0mcleaning\u001b[0m\u001b[0;34m(\u001b[0m\u001b[0;34m)\u001b[0m\u001b[0;34m\u001b[0m\u001b[0;34m\u001b[0m\u001b[0m\n\u001b[0m",
            "\u001b[0;31mAttributeError\u001b[0m: 'Electrical_device' object has no attribute 'cleaning'"
          ]
        }
      ]
    },
    {
      "cell_type": "markdown",
      "source": [
        "## Полиморфизм\n",
        "  \n",
        "  Изначальная идея полиморфизма — описывать вычисления в общем виде, чтобы их можно было использовать с любыми типами данных. Функция print() — отличный пример полиморфизма, т.к. ей не важен тип входных данных.\n"
      ],
      "metadata": {
        "id": "_27t7MFmdZVs"
      }
    },
    {
      "cell_type": "code",
      "source": [
        "a= \"5\"\n",
        "print(a)"
      ],
      "metadata": {
        "colab": {
          "base_uri": "https://localhost:8080/"
        },
        "id": "XrpUyyUfdeua",
        "outputId": "7e03ac55-f553-4938-9314-e9c8a5a019e2"
      },
      "execution_count": null,
      "outputs": [
        {
          "output_type": "stream",
          "name": "stdout",
          "text": [
            "5\n"
          ]
        }
      ]
    },
    {
      "cell_type": "code",
      "source": [
        "a = 123 + 456\n",
        "print(a)"
      ],
      "metadata": {
        "colab": {
          "base_uri": "https://localhost:8080/"
        },
        "id": "nGflNikAeI09",
        "outputId": "5f66fb08-7e94-404a-b3f9-5144f24a2d35"
      },
      "execution_count": null,
      "outputs": [
        {
          "output_type": "stream",
          "name": "stdout",
          "text": [
            "579\n"
          ]
        }
      ]
    },
    {
      "cell_type": "code",
      "source": [
        "a = [34, \"a\", [\"erewr\"], 845]\n",
        "print(a)"
      ],
      "metadata": {
        "colab": {
          "base_uri": "https://localhost:8080/"
        },
        "id": "myuohTZeeLC_",
        "outputId": "e50e3521-9735-4beb-ecd3-e3b4e54278cd"
      },
      "execution_count": null,
      "outputs": [
        {
          "output_type": "stream",
          "name": "stdout",
          "text": [
            "[34, 'a', ['erewr'], 845]\n"
          ]
        }
      ]
    },
    {
      "cell_type": "markdown",
      "source": [
        "### Перовое свойство полиморфизма\n",
        "\n",
        "Если в разных классах присутствуют схожие по названию переменные и методы, компилятор не выдаст ошибку."
      ],
      "metadata": {
        "id": "C8KpmCwpei-U"
      }
    },
    {
      "cell_type": "code",
      "source": [
        "class Hero:\n",
        "  def __init__(self):\n",
        "    self.np = 100\n",
        "    self.atack = 15\n",
        "    self.speed = 1\n",
        "\n",
        "  def Say(self, a):\n",
        "    print(\"Герой говорит: \" + a)"
      ],
      "metadata": {
        "id": "WMVrJTFseMJ6"
      },
      "execution_count": null,
      "outputs": []
    },
    {
      "cell_type": "code",
      "source": [
        "class Enemy:\n",
        "  def __init__(self):\n",
        "    self.hp = 20\n",
        "    self.atack = 5\n",
        "    self.speed = 20\n",
        "\n",
        "  def Say(self):\n",
        "    print(\"Непонятное ворчание\")"
      ],
      "metadata": {
        "id": "tTIEImJ5h6Z-"
      },
      "execution_count": null,
      "outputs": []
    },
    {
      "cell_type": "code",
      "source": [
        "character1 = Hero()\n",
        "\n",
        "character1.Say(\"я тебя спасу\")"
      ],
      "metadata": {
        "colab": {
          "base_uri": "https://localhost:8080/"
        },
        "id": "Bfm7FQGwiBvG",
        "outputId": "dbfbf1b6-6d38-4dfd-a2c7-6eefb3da79ae"
      },
      "execution_count": null,
      "outputs": [
        {
          "output_type": "stream",
          "name": "stdout",
          "text": [
            "Герой говорит: я тебя спасу\n"
          ]
        }
      ]
    },
    {
      "cell_type": "code",
      "source": [
        "antagonist1 = Enemy()\n",
        "\n",
        "antagonist1.Say()"
      ],
      "metadata": {
        "colab": {
          "base_uri": "https://localhost:8080/"
        },
        "id": "1NW5iVB2i63v",
        "outputId": "2eceac97-00c4-4a2f-ac07-89e9f7085c3c"
      },
      "execution_count": null,
      "outputs": [
        {
          "output_type": "stream",
          "name": "stdout",
          "text": [
            "Непонятное ворчание\n"
          ]
        }
      ]
    },
    {
      "cell_type": "markdown",
      "source": [
        "### Второе свойство полиморфизма\n",
        "\n",
        "Основано на переопределении атрибутов, унаследованных от прошлых классов.  Переопределение возникает, когда название метода или свойства дочернего объекта совпадает с родительским."
      ],
      "metadata": {
        "id": "FnMC4lxVjSOn"
      }
    },
    {
      "cell_type": "code",
      "source": [
        "class Enemy():\n",
        "  def __init__(self,hp,atack, speed) :\n",
        "    self.hp = hp\n",
        "    self.atack = atack\n",
        "    self.speed = speed\n",
        "\n",
        "    def Say(self):\n",
        "      print(\"Непонятное ворчание\")"
      ],
      "metadata": {
        "id": "-88TCV_HjPy7"
      },
      "execution_count": null,
      "outputs": []
    },
    {
      "cell_type": "code",
      "source": [
        "class Epick_Enemy(Enemy) :\n",
        "\n",
        "  def Fly(selt):\n",
        "    self.speed += 30\n",
        "\n",
        "  def Say(self):\n",
        "    print(\"Попробуй догони!\")"
      ],
      "metadata": {
        "id": "4r85-bB1kKoh"
      },
      "execution_count": null,
      "outputs": []
    },
    {
      "cell_type": "code",
      "source": [
        "Small_Dragon = Epick_Enemy(20,39,28)\n",
        "Small_Dragon. Say()"
      ],
      "metadata": {
        "colab": {
          "base_uri": "https://localhost:8080/"
        },
        "id": "V3nF0FxekKqw",
        "outputId": "444f6fb2-a7c3-4ec7-ecf8-2de2f6960be3"
      },
      "execution_count": null,
      "outputs": [
        {
          "output_type": "stream",
          "name": "stdout",
          "text": [
            "Попробуй догони!\n"
          ]
        }
      ]
    },
    {
      "cell_type": "markdown",
      "source": [
        "## Инкапсуляция\n",
        "\n",
        "  Один из немногих способов скрыть свойства объектов от остального кода. Как правило, в объектно-ориентированном программировании один класс не должен иметь прямого доступа к данным другого класса: обмен информацией происходит через методы класса."
      ],
      "metadata": {
        "id": "QEYxSbn3kXXW"
      }
    },
    {
      "cell_type": "markdown",
      "source": [
        "В Python существует 3 варианта доступа к данным:\n",
        "* свободный режим доступа (**public**) (стоит по умолчанию у всех переменных и объектов в программе);\n",
        "* _ — режим доступа **protected** (позволяет обращаться только к объектам внутри класса и во всех его дочерних классах);\n",
        "* __ — режим доступа **private** (позволяет обращаться только к объектам внутри класса)."
      ],
      "metadata": {
        "id": "qNOcH_Lfkw4Q"
      }
    },
    {
      "cell_type": "code",
      "source": [
        "public = \"Я обычная перменная\"\n",
        "_protected = \"Я защищеная перменная\"\n",
        "__private = \"Я приватная перменная\""
      ],
      "metadata": {
        "id": "ZZWHrFVMkKs7"
      },
      "execution_count": null,
      "outputs": []
    },
    {
      "cell_type": "code",
      "source": [
        "class Lamp(Electrical_device) :\n",
        "  brightness = 0\n",
        "  __how_many_times_turned_on = 0\n",
        "\n",
        "  def __turn_on(self):\n",
        "    self.__how_many_times_turned_on += 1\n",
        "    print(\"Times was turned on: \", self. __how_many_times_turned_on_)\n",
        "\n",
        "  def info(self):\n",
        "      print(\"Статус лампочки\", self.status)\n",
        "      print(\"Eе яркость\", self.brightness)"
      ],
      "metadata": {
        "id": "w0jZQnq3luNB"
      },
      "execution_count": null,
      "outputs": []
    },
    {
      "cell_type": "code",
      "source": [
        "lamp1 = Lamp(220, \"Накаливания\")"
      ],
      "metadata": {
        "id": "sD3PHllfluO-"
      },
      "execution_count": null,
      "outputs": []
    },
    {
      "cell_type": "markdown",
      "source": [
        "Попытка получить приватные данные или запустить приватный метод приведёт к ошибке:"
      ],
      "metadata": {
        "id": "bScOtQHFmvoy"
      }
    },
    {
      "cell_type": "code",
      "source": [
        "lamp1.turn_on()"
      ],
      "metadata": {
        "id": "8oVrfL0KmhUv"
      },
      "execution_count": null,
      "outputs": []
    },
    {
      "cell_type": "code",
      "source": [
        "lamp1.__turn_on()"
      ],
      "metadata": {
        "id": "A9tlEokampnV"
      },
      "execution_count": null,
      "outputs": []
    }
  ]
}